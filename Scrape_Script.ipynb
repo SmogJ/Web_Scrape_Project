{
 "cells": [
  {
   "cell_type": "code",
   "execution_count": 1584,
   "id": "94077bdc-b7d7-4043-8324-6e38d38c0c20",
   "metadata": {},
   "outputs": [],
   "source": [
    "# importing libraries \n",
    "import os   # library to import chromedrive.exe\n",
    "from selenium import webdriver\n",
    "from selenium.webdriver.common.keys import Keys # assign keyboard commands\n",
    "from selenium.webdriver.common.by import By # for locating elements in pages\n",
    "from selenium.webdriver.chrome.options import Options as ChromeOptions\n",
    "from selenium.webdriver.support.ui import Select\n",
    "\n",
    "# for conditional walt or Explict wait\n",
    "from selenium.webdriver.support.ui import WebDriverWait\n",
    "from selenium.webdriver.support import expected_conditions as EC \n",
    "\n",
    "os.environ[\"PATH\"] += r\"C:\\SeleniumDrivers\\chromedriver.exe\" # importing chromedrive.exe from path location using os\n",
    "                                                             # this is standard, and must be done if you want ot run the script on another server \n",
    "    \n",
    "\n",
    "# PATH= \"C:\\SeleniumDrivers\\chromedriver.exe\"\n",
    "\n",
    "# options = ChromeOptions()\n",
    "# options.headless = True # Make sure that chrome doesn't automatically opens up on it's own.\n",
    "\n",
    "driver= webdriver.Chrome()\n",
    "\n",
    "import pandas as pd \n",
    "import time "
   ]
  },
  {
   "cell_type": "code",
   "execution_count": 1585,
   "id": "8f81c82c-bced-4bff-80ff-81bb0e882c4a",
   "metadata": {},
   "outputs": [],
   "source": [
    "# Getting the Url\n",
    "\n",
    "driver.implicitly_wait(10)\n",
    "driver.get(\"https://www.startupsg.gov.sg/directory/startups/\") # getting website\n",
    "driver.maximize_window() # maximizing browser window"
   ]
  },
  {
   "cell_type": "code",
   "execution_count": 1586,
   "id": "b940d432-efa1-42f5-a4c6-88055a82afdc",
   "metadata": {},
   "outputs": [],
   "source": [
    "# Clicking cookie popup\n",
    "WebDriverWait(driver, 10).until(EC.presence_of_element_located((By.XPATH,' //div[@class=\"cc-compliance\"]/a'))).click()\n",
    "time.sleep(4)"
   ]
  },
  {
   "cell_type": "code",
   "execution_count": 1587,
   "id": "c4466258-3d70-4d6f-8a49-87dfd7962e78",
   "metadata": {},
   "outputs": [],
   "source": [
    "# # #Login to Dashboard\n",
    "\n",
    "login = driver.find_element(By.XPATH, '//nav/div/div/div/a').click()\n",
    "\n",
    "user_email =  driver.find_element(By.XPATH,'//form/div[1]/div/div[1]/div/input')\n",
    "user_email.click()\n",
    "user_email.send_keys('francismaduakor7@gmail.com')\n",
    "\n",
    "password = driver.find_element(By.XPATH,'//form/div[2]/div/div[1]/div/input')\n",
    "password.click()\n",
    "password.send_keys('qwerty123aA@')\n",
    "\n",
    "login_button = driver.find_element(By.XPATH,'//div/div[2]/div/form/button')\n",
    "login_button.click()\n"
   ]
  },
  {
   "cell_type": "code",
   "execution_count": 1589,
   "id": "c1c6d0ac-92eb-4585-a1fb-90b5cdab6c1a",
   "metadata": {},
   "outputs": [],
   "source": [
    "# Selecting Funding stage\n",
    "\n",
    "fundingstage = driver.find_element(By.XPATH,'//*[@id=\"app\"]/div[15]/div/main/div/div/div/div/div/div[3]/div/div/div[2]/div/div/div') # clicking on the funding button\n",
    "fundingstage.click()\n",
    "\n",
    "# Filter Funding Stages\n",
    "\n",
    "seed = driver.find_element(By.CSS_SELECTOR,'div > div > input[aria-label*=\"Seed\"]') # selecting stage SEED\n",
    "driver.execute_script(\"arguments[0].click();\", seed)                                # changing the css input sting input[aria-label*=\"Seed\"]\n",
    "\n",
    "pseries_a = driver.find_element(By.CSS_SELECTOR,'div > div > input[aria-label*=\"Pre-series A\"]') # selecting stage Pre-Series A\n",
    "driver.execute_script(\"arguments[0].click();\", pseries_a)    \n",
    "\n",
    "series_a = driver.find_element(By.CSS_SELECTOR,'div > div > input[aria-label*=\"Series A\"]') # selecting stage Series A \n",
    "driver.execute_script(\"arguments[0].click();\", series_a)    \n",
    "\n",
    "series_b = driver.find_element(By.CSS_SELECTOR,'div > div > input[aria-label*=\"Series B\"]') # selecting stage Series B\n",
    "driver.execute_script(\"arguments[0].click();\", series_b)    \n",
    "\n",
    "series_c = driver.find_element(By.CSS_SELECTOR,'div > div > input[aria-label*=\"Series C\"]') # selecting stage Series C\n",
    "driver.execute_script(\"arguments[0].click();\", series_c)    "
   ]
  },
  {
   "cell_type": "code",
   "execution_count": 1590,
   "id": "3d803037-da51-497c-8bdd-00dc68649164",
   "metadata": {},
   "outputs": [],
   "source": [
    "#  More Filter - Active Status\n",
    "activestatus = driver.find_element(By.CSS_SELECTOR, 'div a[class*=\"link-more-filters\"]')\n",
    "activestatus.click()\n",
    "time.sleep(3)\n",
    "\n",
    "filteractive= driver.find_element(By.CSS_SELECTOR, 'div > div input[aria-label*=\"Active\"]') # checking the Active Checkbox\n",
    "driver.execute_script(\"arguments[0].click();\", filteractive)\n",
    "\n",
    "applybutton = driver.find_element(By.CSS_SELECTOR,'div.v-card__actions > div > div > button[type*=\"button\"][class$=\"primary\"]') # clicking the apply button\n",
    "driver.execute_script(\"arguments[0].click();\", applybutton)"
   ]
  },
  {
   "cell_type": "code",
   "execution_count": 1592,
   "id": "1a0fbfb9-ae74-4b3c-b06c-7d481f6f7d4a",
   "metadata": {
    "tags": []
   },
   "outputs": [
    {
     "ename": "ElementClickInterceptedException",
     "evalue": "Message: element click intercepted: Element <i aria-hidden=\"true\" class=\"v-icon mdi mdi-arrow-right theme--light\"></i> is not clickable at point (1002, 259). Other element would receive the click: <li>...</li>\n  (Session info: chrome=100.0.4896.127)\nStacktrace:\nBacktrace:\n\tOrdinal0 [0x006D7413+2389011]\n\tOrdinal0 [0x00669F61+1941345]\n\tOrdinal0 [0x0055C658+837208]\n\tOrdinal0 [0x0058F8AF+1046703]\n\tOrdinal0 [0x0058D8D6+1038550]\n\tOrdinal0 [0x0058B5EB+1029611]\n\tOrdinal0 [0x0058A359+1024857]\n\tOrdinal0 [0x0057FF93+982931]\n\tOrdinal0 [0x005A414C+1130828]\n\tOrdinal0 [0x0057F974+981364]\n\tOrdinal0 [0x005A4364+1131364]\n\tOrdinal0 [0x005B4302+1196802]\n\tOrdinal0 [0x005A3F66+1130342]\n\tOrdinal0 [0x0057E546+976198]\n\tOrdinal0 [0x0057F456+980054]\n\tGetHandleVerifier [0x00889632+1727522]\n\tGetHandleVerifier [0x0093BA4D+2457661]\n\tGetHandleVerifier [0x0076EB81+569713]\n\tGetHandleVerifier [0x0076DD76+566118]\n\tOrdinal0 [0x00670B2B+1968939]\n\tOrdinal0 [0x00675988+1989000]\n\tOrdinal0 [0x00675A75+1989237]\n\tOrdinal0 [0x0067ECB1+2026673]\n\tBaseThreadInitThunk [0x7626FA29+25]\n\tRtlGetAppContainerNamedObjectPath [0x77997A7E+286]\n\tRtlGetAppContainerNamedObjectPath [0x77997A4E+238]\n",
     "output_type": "error",
     "traceback": [
      "\u001b[1;31m---------------------------------------------------------------------------\u001b[0m",
      "\u001b[1;31mElementClickInterceptedException\u001b[0m          Traceback (most recent call last)",
      "\u001b[1;32mC:\\Users\\JEFFRE~1\\AppData\\Local\\Temp/ipykernel_16876/859942656.py\u001b[0m in \u001b[0;36m<module>\u001b[1;34m\u001b[0m\n\u001b[0;32m     72\u001b[0m         \u001b[0mdriver\u001b[0m\u001b[1;33m.\u001b[0m\u001b[0mswitch_to\u001b[0m\u001b[1;33m.\u001b[0m\u001b[0mwindow\u001b[0m\u001b[1;33m(\u001b[0m\u001b[0mdriver\u001b[0m\u001b[1;33m.\u001b[0m\u001b[0mwindow_handles\u001b[0m\u001b[1;33m[\u001b[0m\u001b[1;36m0\u001b[0m\u001b[1;33m]\u001b[0m\u001b[1;33m)\u001b[0m \u001b[1;31m# handles Switching back to main window\u001b[0m\u001b[1;33m\u001b[0m\u001b[1;33m\u001b[0m\u001b[0m\n\u001b[0;32m     73\u001b[0m \u001b[1;33m\u001b[0m\u001b[0m\n\u001b[1;32m---> 74\u001b[1;33m     \u001b[0mnext\u001b[0m \u001b[1;33m=\u001b[0m \u001b[0mdriver\u001b[0m\u001b[1;33m.\u001b[0m\u001b[0mfind_element\u001b[0m\u001b[1;33m(\u001b[0m\u001b[0mBy\u001b[0m\u001b[1;33m.\u001b[0m\u001b[0mCSS_SELECTOR\u001b[0m\u001b[1;33m,\u001b[0m \u001b[1;34m'ul > li:nth-child(11) > button[class*=\"v-pagination__navigation\"]> i'\u001b[0m\u001b[1;33m)\u001b[0m\u001b[1;33m.\u001b[0m\u001b[0mclick\u001b[0m\u001b[1;33m(\u001b[0m\u001b[1;33m)\u001b[0m \u001b[1;31m# clinking the nexk button to navigate to the another page\u001b[0m\u001b[1;33m\u001b[0m\u001b[1;33m\u001b[0m\u001b[0m\n\u001b[0m\u001b[0;32m     75\u001b[0m     \u001b[1;32mif\u001b[0m \u001b[0mp\u001b[0m \u001b[1;33m==\u001b[0m \u001b[1;36m52\u001b[0m\u001b[1;33m:\u001b[0m\u001b[1;33m\u001b[0m\u001b[1;33m\u001b[0m\u001b[0m\n\u001b[0;32m     76\u001b[0m         \u001b[1;32mbreak\u001b[0m\u001b[1;33m\u001b[0m\u001b[1;33m\u001b[0m\u001b[0m\n",
      "\u001b[1;32m~\\anaconda3\\envs\\py3\\lib\\site-packages\\selenium\\webdriver\\remote\\webelement.py\u001b[0m in \u001b[0;36mclick\u001b[1;34m(self)\u001b[0m\n\u001b[0;32m     79\u001b[0m     \u001b[1;32mdef\u001b[0m \u001b[0mclick\u001b[0m\u001b[1;33m(\u001b[0m\u001b[0mself\u001b[0m\u001b[1;33m)\u001b[0m \u001b[1;33m->\u001b[0m \u001b[1;32mNone\u001b[0m\u001b[1;33m:\u001b[0m\u001b[1;33m\u001b[0m\u001b[1;33m\u001b[0m\u001b[0m\n\u001b[0;32m     80\u001b[0m         \u001b[1;34m\"\"\"Clicks the element.\"\"\"\u001b[0m\u001b[1;33m\u001b[0m\u001b[1;33m\u001b[0m\u001b[0m\n\u001b[1;32m---> 81\u001b[1;33m         \u001b[0mself\u001b[0m\u001b[1;33m.\u001b[0m\u001b[0m_execute\u001b[0m\u001b[1;33m(\u001b[0m\u001b[0mCommand\u001b[0m\u001b[1;33m.\u001b[0m\u001b[0mCLICK_ELEMENT\u001b[0m\u001b[1;33m)\u001b[0m\u001b[1;33m\u001b[0m\u001b[1;33m\u001b[0m\u001b[0m\n\u001b[0m\u001b[0;32m     82\u001b[0m \u001b[1;33m\u001b[0m\u001b[0m\n\u001b[0;32m     83\u001b[0m     \u001b[1;32mdef\u001b[0m \u001b[0msubmit\u001b[0m\u001b[1;33m(\u001b[0m\u001b[0mself\u001b[0m\u001b[1;33m)\u001b[0m\u001b[1;33m:\u001b[0m\u001b[1;33m\u001b[0m\u001b[1;33m\u001b[0m\u001b[0m\n",
      "\u001b[1;32m~\\anaconda3\\envs\\py3\\lib\\site-packages\\selenium\\webdriver\\remote\\webelement.py\u001b[0m in \u001b[0;36m_execute\u001b[1;34m(self, command, params)\u001b[0m\n\u001b[0;32m    708\u001b[0m             \u001b[0mparams\u001b[0m \u001b[1;33m=\u001b[0m \u001b[1;33m{\u001b[0m\u001b[1;33m}\u001b[0m\u001b[1;33m\u001b[0m\u001b[1;33m\u001b[0m\u001b[0m\n\u001b[0;32m    709\u001b[0m         \u001b[0mparams\u001b[0m\u001b[1;33m[\u001b[0m\u001b[1;34m'id'\u001b[0m\u001b[1;33m]\u001b[0m \u001b[1;33m=\u001b[0m \u001b[0mself\u001b[0m\u001b[1;33m.\u001b[0m\u001b[0m_id\u001b[0m\u001b[1;33m\u001b[0m\u001b[1;33m\u001b[0m\u001b[0m\n\u001b[1;32m--> 710\u001b[1;33m         \u001b[1;32mreturn\u001b[0m \u001b[0mself\u001b[0m\u001b[1;33m.\u001b[0m\u001b[0m_parent\u001b[0m\u001b[1;33m.\u001b[0m\u001b[0mexecute\u001b[0m\u001b[1;33m(\u001b[0m\u001b[0mcommand\u001b[0m\u001b[1;33m,\u001b[0m \u001b[0mparams\u001b[0m\u001b[1;33m)\u001b[0m\u001b[1;33m\u001b[0m\u001b[1;33m\u001b[0m\u001b[0m\n\u001b[0m\u001b[0;32m    711\u001b[0m \u001b[1;33m\u001b[0m\u001b[0m\n\u001b[0;32m    712\u001b[0m     \u001b[1;32mdef\u001b[0m \u001b[0mfind_element\u001b[0m\u001b[1;33m(\u001b[0m\u001b[0mself\u001b[0m\u001b[1;33m,\u001b[0m \u001b[0mby\u001b[0m\u001b[1;33m=\u001b[0m\u001b[0mBy\u001b[0m\u001b[1;33m.\u001b[0m\u001b[0mID\u001b[0m\u001b[1;33m,\u001b[0m \u001b[0mvalue\u001b[0m\u001b[1;33m=\u001b[0m\u001b[1;32mNone\u001b[0m\u001b[1;33m)\u001b[0m\u001b[1;33m:\u001b[0m\u001b[1;33m\u001b[0m\u001b[1;33m\u001b[0m\u001b[0m\n",
      "\u001b[1;32m~\\anaconda3\\envs\\py3\\lib\\site-packages\\selenium\\webdriver\\remote\\webdriver.py\u001b[0m in \u001b[0;36mexecute\u001b[1;34m(self, driver_command, params)\u001b[0m\n\u001b[0;32m    422\u001b[0m         \u001b[0mresponse\u001b[0m \u001b[1;33m=\u001b[0m \u001b[0mself\u001b[0m\u001b[1;33m.\u001b[0m\u001b[0mcommand_executor\u001b[0m\u001b[1;33m.\u001b[0m\u001b[0mexecute\u001b[0m\u001b[1;33m(\u001b[0m\u001b[0mdriver_command\u001b[0m\u001b[1;33m,\u001b[0m \u001b[0mparams\u001b[0m\u001b[1;33m)\u001b[0m\u001b[1;33m\u001b[0m\u001b[1;33m\u001b[0m\u001b[0m\n\u001b[0;32m    423\u001b[0m         \u001b[1;32mif\u001b[0m \u001b[0mresponse\u001b[0m\u001b[1;33m:\u001b[0m\u001b[1;33m\u001b[0m\u001b[1;33m\u001b[0m\u001b[0m\n\u001b[1;32m--> 424\u001b[1;33m             \u001b[0mself\u001b[0m\u001b[1;33m.\u001b[0m\u001b[0merror_handler\u001b[0m\u001b[1;33m.\u001b[0m\u001b[0mcheck_response\u001b[0m\u001b[1;33m(\u001b[0m\u001b[0mresponse\u001b[0m\u001b[1;33m)\u001b[0m\u001b[1;33m\u001b[0m\u001b[1;33m\u001b[0m\u001b[0m\n\u001b[0m\u001b[0;32m    425\u001b[0m             response['value'] = self._unwrap_value(\n\u001b[0;32m    426\u001b[0m                 response.get('value', None))\n",
      "\u001b[1;32m~\\anaconda3\\envs\\py3\\lib\\site-packages\\selenium\\webdriver\\remote\\errorhandler.py\u001b[0m in \u001b[0;36mcheck_response\u001b[1;34m(self, response)\u001b[0m\n\u001b[0;32m    245\u001b[0m                 \u001b[0malert_text\u001b[0m \u001b[1;33m=\u001b[0m \u001b[0mvalue\u001b[0m\u001b[1;33m[\u001b[0m\u001b[1;34m'alert'\u001b[0m\u001b[1;33m]\u001b[0m\u001b[1;33m.\u001b[0m\u001b[0mget\u001b[0m\u001b[1;33m(\u001b[0m\u001b[1;34m'text'\u001b[0m\u001b[1;33m)\u001b[0m\u001b[1;33m\u001b[0m\u001b[1;33m\u001b[0m\u001b[0m\n\u001b[0;32m    246\u001b[0m             \u001b[1;32mraise\u001b[0m \u001b[0mexception_class\u001b[0m\u001b[1;33m(\u001b[0m\u001b[0mmessage\u001b[0m\u001b[1;33m,\u001b[0m \u001b[0mscreen\u001b[0m\u001b[1;33m,\u001b[0m \u001b[0mstacktrace\u001b[0m\u001b[1;33m,\u001b[0m \u001b[0malert_text\u001b[0m\u001b[1;33m)\u001b[0m  \u001b[1;31m# type: ignore[call-arg]  # mypy is not smart enough here\u001b[0m\u001b[1;33m\u001b[0m\u001b[1;33m\u001b[0m\u001b[0m\n\u001b[1;32m--> 247\u001b[1;33m         \u001b[1;32mraise\u001b[0m \u001b[0mexception_class\u001b[0m\u001b[1;33m(\u001b[0m\u001b[0mmessage\u001b[0m\u001b[1;33m,\u001b[0m \u001b[0mscreen\u001b[0m\u001b[1;33m,\u001b[0m \u001b[0mstacktrace\u001b[0m\u001b[1;33m)\u001b[0m\u001b[1;33m\u001b[0m\u001b[1;33m\u001b[0m\u001b[0m\n\u001b[0m\u001b[0;32m    248\u001b[0m \u001b[1;33m\u001b[0m\u001b[0m\n\u001b[0;32m    249\u001b[0m     \u001b[1;32mdef\u001b[0m \u001b[0m_value_or_default\u001b[0m\u001b[1;33m(\u001b[0m\u001b[0mself\u001b[0m\u001b[1;33m,\u001b[0m \u001b[0mobj\u001b[0m\u001b[1;33m:\u001b[0m \u001b[0mMapping\u001b[0m\u001b[1;33m[\u001b[0m\u001b[0m_KT\u001b[0m\u001b[1;33m,\u001b[0m \u001b[0m_VT\u001b[0m\u001b[1;33m]\u001b[0m\u001b[1;33m,\u001b[0m \u001b[0mkey\u001b[0m\u001b[1;33m:\u001b[0m \u001b[0m_KT\u001b[0m\u001b[1;33m,\u001b[0m \u001b[0mdefault\u001b[0m\u001b[1;33m:\u001b[0m \u001b[0m_VT\u001b[0m\u001b[1;33m)\u001b[0m \u001b[1;33m->\u001b[0m \u001b[0m_VT\u001b[0m\u001b[1;33m:\u001b[0m\u001b[1;33m\u001b[0m\u001b[1;33m\u001b[0m\u001b[0m\n",
      "\u001b[1;31mElementClickInterceptedException\u001b[0m: Message: element click intercepted: Element <i aria-hidden=\"true\" class=\"v-icon mdi mdi-arrow-right theme--light\"></i> is not clickable at point (1002, 259). Other element would receive the click: <li>...</li>\n  (Session info: chrome=100.0.4896.127)\nStacktrace:\nBacktrace:\n\tOrdinal0 [0x006D7413+2389011]\n\tOrdinal0 [0x00669F61+1941345]\n\tOrdinal0 [0x0055C658+837208]\n\tOrdinal0 [0x0058F8AF+1046703]\n\tOrdinal0 [0x0058D8D6+1038550]\n\tOrdinal0 [0x0058B5EB+1029611]\n\tOrdinal0 [0x0058A359+1024857]\n\tOrdinal0 [0x0057FF93+982931]\n\tOrdinal0 [0x005A414C+1130828]\n\tOrdinal0 [0x0057F974+981364]\n\tOrdinal0 [0x005A4364+1131364]\n\tOrdinal0 [0x005B4302+1196802]\n\tOrdinal0 [0x005A3F66+1130342]\n\tOrdinal0 [0x0057E546+976198]\n\tOrdinal0 [0x0057F456+980054]\n\tGetHandleVerifier [0x00889632+1727522]\n\tGetHandleVerifier [0x0093BA4D+2457661]\n\tGetHandleVerifier [0x0076EB81+569713]\n\tGetHandleVerifier [0x0076DD76+566118]\n\tOrdinal0 [0x00670B2B+1968939]\n\tOrdinal0 [0x00675988+1989000]\n\tOrdinal0 [0x00675A75+1989237]\n\tOrdinal0 [0x0067ECB1+2026673]\n\tBaseThreadInitThunk [0x7626FA29+25]\n\tRtlGetAppContainerNamedObjectPath [0x77997A7E+286]\n\tRtlGetAppContainerNamedObjectPath [0x77997A4E+238]\n"
     ]
    }
   ],
   "source": [
    "# company_name = []\n",
    "# funding_stage =[]\n",
    "# employee_range = []\n",
    "# email =[]\n",
    "# phone_number = []\n",
    "# name= []\n",
    "# link= []\n",
    "\n",
    "contact= []\n",
    "\n",
    "for p in range(52):\n",
    "    time.sleep(5)\n",
    "    \n",
    "    results = driver.find_elements(By.XPATH, '//div[3]/div[@class=\"layout row wrap\"]//div[@class=\"flex xs12\"]/a') # company page element\n",
    "    \n",
    "    for r in results:\n",
    "        WebDriverWait(driver, 10).until(EC.visibility_of(r))\n",
    "        time.sleep(0.5)\n",
    "        driver.execute_script(\"arguments[0].click();\", r) # clinking the company page elment to redirect to a new window\n",
    "        \n",
    "        \n",
    "        driver.switch_to.window(driver.window_handles[1]) # handles switch to new window\n",
    "        time.sleep(6)\n",
    "        \n",
    "# Scraping Contact Details from Company Page window\n",
    "        try:\n",
    "            company = driver.find_element(By.XPATH, '//header/div/div[2]/h1').text\n",
    "            # company_name.append(company)\n",
    "        except:\n",
    "            pass\n",
    "            \n",
    "        try:\n",
    "            stage= driver.find_element(By.XPATH, '//div[3]/div[2][@class=\"flex section__legend__content xs12 md9\"]').text\n",
    "            # funding_stage.append(stage)\n",
    "        except:\n",
    "            pass\n",
    "        \n",
    "        try:\n",
    "            employee_count= driver.find_element(By.XPATH, '//div[4]/div[2][@class=\"flex section__legend__content xs12 md9\"]').text\n",
    "            # employee_range.append(employee_count)\n",
    "        except:\n",
    "            pass\n",
    "        \n",
    "        try:\n",
    "            mail = driver.find_element(By.CSS_SELECTOR, 'a[href^=\"mailto:\"]').text\n",
    "        except:\n",
    "            mail= 'null'\n",
    "            # email.append(mail)\n",
    "            \n",
    "        try:\n",
    "            phone =driver.find_element(By.CSS_SELECTOR, 'li.phone > span').text\n",
    "            # phone_number.append(phone)\n",
    "        except:\n",
    "            phone = 'null'\n",
    "            \n",
    "        try:\n",
    "            founder = driver.find_element(By.CSS_SELECTOR,'div> h4.team__name').text\n",
    "        except:\n",
    "            # name.append(founder)\n",
    "            founder= 'null'\n",
    "            \n",
    "        try:\n",
    "            links = driver.find_element(By.CSS_SELECTOR,'a[href^=\"https://www.linkedin.com/company/\"]').get_attribute('href')\n",
    "        except:\n",
    "            # link.append(links)\n",
    "            links= 'null'\n",
    "\n",
    "        driver.close() # Close the new window\n",
    "        \n",
    "        contact.append([company, stage, employee_count, mail, phone, founder, links])  # concating each value as they are scraped\n",
    "        \n",
    "        driver.switch_to.window(driver.window_handles[0]) # handles Switching back to main window\n",
    "        \n",
    "    next = driver.find_element(By.CSS_SELECTOR, 'ul > li:nth-child(11) > button[class*=\"v-pagination__navigation\"]> i').click() # clinking the nexk button to navigate to the another page\n",
    "    except ElementClickInterceptedException:\n",
    "        break\n",
    "    "
   ]
  },
  {
   "cell_type": "code",
   "execution_count": null,
   "id": "253e7503-a9f8-4e7d-be24-107e1e020dbb",
   "metadata": {},
   "outputs": [],
   "source": [
    "        #         founder= driver.find_element(By.CSS_SELECTOR, 'div> h4.team__name').test\n",
    "        # name.append(founder)\n",
    "        # link = driver.find_element(By.CSS_SELECTOR, 'a[href^=\"https://www.linkedin.com/company/\"]')\n",
    "        # linkedin.append(link.get_attribute('href')\n",
    "        # for i in driver.find_elements(By.CSS_SELECTOR, 'div> h4.team__name'):\n",
    "        #     name.append(i.text)\n",
    "        # for j in driver.find_elements(By.CSS_SELECTOR, 'a[href^=\"https://www.linkedin.com/company/\"]'):\n",
    "        #     link.append(j.get_attribute('href'))"
   ]
  },
  {
   "cell_type": "code",
   "execution_count": null,
   "id": "e38e932f-6332-43b6-a07a-bac0dee50768",
   "metadata": {},
   "outputs": [],
   "source": [
    "# print(company_name)\n",
    "# print(funding_stage)\n",
    "# print(employee_range)\n",
    "# print(email)\n",
    "# print(phone_number)\n",
    "# print(name)\n",
    "# print(link)\n",
    "\n",
    "# print(contact)\n"
   ]
  },
  {
   "cell_type": "code",
   "execution_count": null,
   "id": "08b60e69-9345-41a2-98a2-e57f2eb8a415",
   "metadata": {},
   "outputs": [],
   "source": [
    "#spliting founder name into first and last name\n",
    "# first_name= []\n",
    "# last_name= []\n",
    "# for i in name:\n",
    "#     first, last = i.split(' ')\n",
    "#     first_name.append(first)\n",
    "#     last_name.append(last)\n",
    "    \n",
    "    \n",
    "# print(first_name,last_name)"
   ]
  },
  {
   "cell_type": "code",
   "execution_count": 1593,
   "id": "15ce7526-b1d9-4f35-a0dd-9d0a0e3fd59e",
   "metadata": {},
   "outputs": [],
   "source": [
    "contact_df= pd.DataFrame(contact, columns=['Company_name', 'Funding_stage', 'Employee_range', 'Email', 'Phone_number', 'Name', 'Linkedin'])\n",
    "\n",
    "# contact_df"
   ]
  },
  {
   "cell_type": "code",
   "execution_count": 1594,
   "id": "564279a8-6470-4bf9-ac4e-d4741716db92",
   "metadata": {},
   "outputs": [],
   "source": [
    "# Convert to excel \n",
    "contact_df.to_excel('StartupSG Contact_list.xlsx')"
   ]
  },
  {
   "cell_type": "code",
   "execution_count": null,
   "id": "0bed371f-e997-4101-ac84-bd043dee5d2d",
   "metadata": {},
   "outputs": [],
   "source": []
  },
  {
   "cell_type": "code",
   "execution_count": null,
   "id": "8ea43883-1d8d-404b-9289-4ad437206494",
   "metadata": {},
   "outputs": [],
   "source": []
  }
 ],
 "metadata": {
  "kernelspec": {
   "display_name": "Python 3 (ipykernel)",
   "language": "python",
   "name": "python3"
  },
  "language_info": {
   "codemirror_mode": {
    "name": "ipython",
    "version": 3
   },
   "file_extension": ".py",
   "mimetype": "text/x-python",
   "name": "python",
   "nbconvert_exporter": "python",
   "pygments_lexer": "ipython3",
   "version": "3.9.7"
  }
 },
 "nbformat": 4,
 "nbformat_minor": 5
}
