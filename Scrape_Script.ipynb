{
 "cells": [
  {
   "cell_type": "code",
   "execution_count": 197,
   "id": "94077bdc-b7d7-4043-8324-6e38d38c0c20",
   "metadata": {},
   "outputs": [],
   "source": [
    "# importing libraries \n",
    "import os   # library to import chromedrive.exe\n",
    "from selenium import webdriver\n",
    "from selenium.webdriver.common.keys import Keys # assign keyboard commands\n",
    "from selenium.webdriver.common.by import By # for locating elements in pages\n",
    "from selenium.webdriver.chrome.options import Options as ChromeOptions\n",
    "from selenium.webdriver.support.ui import Select\n",
    "\n",
    "# for conditional walt or Explict wait\n",
    "from selenium.webdriver.support.ui import WebDriverWait\n",
    "from selenium.webdriver.support import expected_conditions as EC \n",
    "\n",
    "os.environ[\"PATH\"] += r\"C:\\SeleniumDrivers\\chromedriver.exe\" # importing chromedrive.exe from path location using os\n",
    "                                                             # this is standard, and must be done if you want ot run the script on another server \n",
    "    \n",
    "driver= webdriver.Chrome()\n",
    "\n",
    "import pandas as pd "
   ]
  },
  {
   "cell_type": "code",
   "execution_count": 198,
   "id": "8f81c82c-bced-4bff-80ff-81bb0e882c4a",
   "metadata": {},
   "outputs": [],
   "source": [
    "driver.implicitly_wait(10)\n",
    "driver.get(\"https://www.startupsg.gov.sg/directory/startups/?sort=-changed&q\") # getting website\n",
    "driver.maximize_window() # maximizing browser window"
   ]
  },
  {
   "cell_type": "code",
   "execution_count": 199,
   "id": "d303ca37-118c-48df-bc87-124c81efcfe7",
   "metadata": {},
   "outputs": [],
   "source": [
    "# Selecting Funding stage\n",
    "\n",
    "fundingstage = driver.find_element(By.CSS_SELECTOR,'div.directory__filters > div > div > div:nth-child(2) > div > div > div') # clicking on the funding button\n",
    "fundingstage.click()"
   ]
  },
  {
   "cell_type": "code",
   "execution_count": 200,
   "id": "3abd239d-b2a5-48c0-aa28-b6c2df379b99",
   "metadata": {},
   "outputs": [],
   "source": [
    "# Filter Funding Stage\n",
    "stage = driver.find_element(By.CSS_SELECTOR,'div.filter.directory__filter.active > div.filter-panel > div > div:nth-child(2) > div > div > div > label') # selecting stage\n",
    "stage.click()"
   ]
  },
  {
   "cell_type": "code",
   "execution_count": 201,
   "id": "0ea456b4-f8c3-45db-a37b-ee0f3eaffc3a",
   "metadata": {},
   "outputs": [
    {
     "ename": "NameError",
     "evalue": "name 'select' is not defined",
     "output_type": "error",
     "traceback": [
      "\u001b[1;31m---------------------------------------------------------------------------\u001b[0m",
      "\u001b[1;31mNameError\u001b[0m                                 Traceback (most recent call last)",
      "\u001b[1;32mC:\\Users\\JEFFRE~1\\AppData\\Local\\Temp/ipykernel_12012/2479600454.py\u001b[0m in \u001b[0;36m<module>\u001b[1;34m\u001b[0m\n\u001b[0;32m      4\u001b[0m \u001b[1;33m\u001b[0m\u001b[0m\n\u001b[0;32m      5\u001b[0m \u001b[1;31m# status = driver.find_element(By.TAG_NAME,'Activity Status')\u001b[0m\u001b[1;33m\u001b[0m\u001b[1;33m\u001b[0m\u001b[0m\n\u001b[1;32m----> 6\u001b[1;33m \u001b[0macitve\u001b[0m\u001b[1;33m=\u001b[0m \u001b[0mselect\u001b[0m\u001b[1;33m(\u001b[0m\u001b[0mdriver\u001b[0m\u001b[1;33m.\u001b[0m\u001b[0mfind_element\u001b[0m\u001b[1;33m(\u001b[0m\u001b[0mBy\u001b[0m\u001b[1;33m.\u001b[0m\u001b[0mCSS_SELECTOR\u001b[0m\u001b[1;33m,\u001b[0m \u001b[1;34m'div:nth-child(14) > div:nth-child(1) > div > div > div > label'\u001b[0m\u001b[1;33m)\u001b[0m\u001b[1;33m)\u001b[0m\u001b[1;33m\u001b[0m\u001b[1;33m\u001b[0m\u001b[0m\n\u001b[0m\u001b[0;32m      7\u001b[0m \u001b[0mactive\u001b[0m\u001b[1;33m.\u001b[0m\u001b[0mselect_by_visible_text\u001b[0m\u001b[1;33m(\u001b[0m\u001b[1;34m'Acitve'\u001b[0m\u001b[1;33m)\u001b[0m\u001b[1;33m\u001b[0m\u001b[1;33m\u001b[0m\u001b[0m\n",
      "\u001b[1;31mNameError\u001b[0m: name 'select' is not defined"
     ]
    }
   ],
   "source": [
    "#  More Filter - Active Status\n",
    "activestatus = driver.find_element(By.CSS_SELECTOR, 'div a[class*=\"link-more-filters\"]')\n",
    "activestatus.click()\n",
    "\n",
    "try:\n",
    "    acitve= driver.find_element(By.CSS_SELECTOR, 'div:nth-child(14) > div:nth-child(1) > div > div > div > label')\n",
    "    active.click()\n",
    "except:\n",
    "    print (\"can't click the checkbox\")"
   ]
  },
  {
   "cell_type": "code",
   "execution_count": null,
   "id": "c4466258-3d70-4d6f-8a49-87dfd7962e78",
   "metadata": {},
   "outputs": [],
   "source": [
    "# #Login to Dashboard\n",
    "\n",
    "# # Clicking login text/link\n",
    "# try:\n",
    "#     loginelement = WebDriverWait(driver, 10).until(\n",
    "#         EC.element_to_be_clickable((By.LINK_TEXT, \"Login\"))\n",
    "#     )\n",
    "#     loginelement.click()\n",
    "# except:\n",
    "#     print('wait')\n",
    "    \n",
    "# # loginelement = driver.find_element(By.LINK_TEXT,\"Login\").click()"
   ]
  },
  {
   "cell_type": "code",
   "execution_count": null,
   "id": "8cb17e5f-7789-4c3f-b117-8ec663ef97ae",
   "metadata": {},
   "outputs": [],
   "source": [
    "# # Sending in Username and Password\n",
    "# try:\n",
    "#     email = WebDriverWait(driver, 10).until(\n",
    "#         EC.element_to_be_clickable((By.CSS_SELECTOR, 'div[class =\"v-text-field__slot\"]'))\n",
    "#     )\n",
    "#     email.clear()\n",
    "#     email.send_keys(\"francismaduakor7@gmail.com\")\n",
    "# except:\n",
    "#     print('Error: Could not find element, failed to input email')\n",
    "    \n",
    "    \n",
    "# email= driver.find_element(By.CSS_SELECTOR, 'input#') # sending email\n",
    "# email.clear()\n",
    "# email.send_keys(\"francismaduakor7@gmail.com\")\n",
    "\n",
    "# pwd= driver.find_element(By.CSS_SELECTOR,'div[id=\"editing-view-port\"]') # sendig password\n",
    "# pwd.send_keys(\"qwerty123aA@\")\n",
    "\n",
    "\n",
    "\n",
    "# email = driver.find_element(By.CSS_SELECTOR,'input[aria-label=\"Email*\"]')\n",
    "\n"
   ]
  },
  {
   "cell_type": "code",
   "execution_count": null,
   "id": "e284375c-cd7a-4c2f-acc3-26a6b986d462",
   "metadata": {},
   "outputs": [],
   "source": []
  }
 ],
 "metadata": {
  "kernelspec": {
   "display_name": "Python 3 (ipykernel)",
   "language": "python",
   "name": "python3"
  },
  "language_info": {
   "codemirror_mode": {
    "name": "ipython",
    "version": 3
   },
   "file_extension": ".py",
   "mimetype": "text/x-python",
   "name": "python",
   "nbconvert_exporter": "python",
   "pygments_lexer": "ipython3",
   "version": "3.9.7"
  }
 },
 "nbformat": 4,
 "nbformat_minor": 5
}
