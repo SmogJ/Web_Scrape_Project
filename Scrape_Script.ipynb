{
 "cells": [
  {
   "cell_type": "code",
   "execution_count": 691,
   "id": "94077bdc-b7d7-4043-8324-6e38d38c0c20",
   "metadata": {},
   "outputs": [],
   "source": [
    "# importing libraries \n",
    "import os   # library to import chromedrive.exe\n",
    "from selenium import webdriver\n",
    "from selenium.webdriver.common.keys import Keys # assign keyboard commands\n",
    "from selenium.webdriver.common.by import By # for locating elements in pages\n",
    "from selenium.webdriver.chrome.options import Options as ChromeOptions\n",
    "from selenium.webdriver.support.ui import Select\n",
    "\n",
    "# for conditional walt or Explict wait\n",
    "from selenium.webdriver.support.ui import WebDriverWait\n",
    "from selenium.webdriver.support import expected_conditions as EC \n",
    "\n",
    "os.environ[\"PATH\"] += r\"C:\\SeleniumDrivers\\chromedriver.exe\" # importing chromedrive.exe from path location using os\n",
    "                                                             # this is standard, and must be done if you want ot run the script on another server \n",
    "    \n",
    "driver= webdriver.Chrome()\n",
    "\n",
    "# options = Options()\n",
    "# options.headless = True # Make sure that chrome doesn't automatically opens up on it's own.\n",
    "\n",
    "import pandas as pd \n",
    "import time "
   ]
  },
  {
   "cell_type": "code",
   "execution_count": 692,
   "id": "8f81c82c-bced-4bff-80ff-81bb0e882c4a",
   "metadata": {},
   "outputs": [],
   "source": [
    "# Getting the Url\n",
    "\n",
    "driver.implicitly_wait(10)\n",
    "driver.get(\"https://www.startupsg.gov.sg/directory/startups/\") # getting website\n",
    "driver.maximize_window() # maximizing browser window"
   ]
  },
  {
   "cell_type": "code",
   "execution_count": 693,
   "id": "b940d432-efa1-42f5-a4c6-88055a82afdc",
   "metadata": {},
   "outputs": [],
   "source": [
    "# Clicking cookie popup\n",
    "WebDriverWait(driver, 10).until(EC.presence_of_element_located((By.XPATH,' //div[@class=\"cc-compliance\"]/a'))).click()"
   ]
  },
  {
   "cell_type": "code",
   "execution_count": 694,
   "id": "c4466258-3d70-4d6f-8a49-87dfd7962e78",
   "metadata": {},
   "outputs": [],
   "source": [
    "# # #Login to Dashboard\n",
    "\n",
    "# login = driver.find_element(By.XPATH, '//nav/div/div/div/a').click()\n",
    "\n",
    "# user_email =  driver.find_element(By.XPATH,'//form/div[1]/div/div[1]/div/input')\n",
    "# user_email.click()\n",
    "# user_email.send_keys('francismaduakor7@gmail.com')\n",
    "\n",
    "# password = driver.find_element(By.XPATH,'//form/div[2]/div/div[1]/div/input')\n",
    "# password.click()\n",
    "# password.send_keys('qwerty123aA@')\n",
    "\n",
    "# login_button = driver.find_element(By.XPATH,'//div/div[2]/div/form/button')\n",
    "# login_button.click()\n"
   ]
  },
  {
   "cell_type": "code",
   "execution_count": 695,
   "id": "c1c6d0ac-92eb-4585-a1fb-90b5cdab6c1a",
   "metadata": {},
   "outputs": [],
   "source": [
    "# Selecting Funding stage\n",
    "\n",
    "fundingstage = driver.find_element(By.XPATH,'//*[@id=\"app\"]/div[13]/div/main/div/div/div/div/div/div[3]/div/div/div[2]/div/div/div') # clicking on the funding button\n",
    "fundingstage.click()\n",
    "\n",
    "# Filter Funding Stages\n",
    "\n",
    "seed = driver.find_element(By.CSS_SELECTOR,'div > div > input[aria-label*=\"Seed\"]') # selecting stage SEED\n",
    "driver.execute_script(\"arguments[0].click();\", seed)                                # changing the css input sting input[aria-label*=\"Seed\"]\n",
    "\n",
    "pseries_a = driver.find_element(By.CSS_SELECTOR,'div > div > input[aria-label*=\"Pre-series A\"]') # selecting stage Pre-Series A\n",
    "driver.execute_script(\"arguments[0].click();\", pseries_a)    \n",
    "\n",
    "series_a = driver.find_element(By.CSS_SELECTOR,'div > div > input[aria-label*=\"Series A\"]') # selecting stage Series A \n",
    "driver.execute_script(\"arguments[0].click();\", series_a)    \n",
    "\n",
    "series_b = driver.find_element(By.CSS_SELECTOR,'div > div > input[aria-label*=\"Series B\"]') # selecting stage Series B\n",
    "driver.execute_script(\"arguments[0].click();\", series_b)    \n",
    "\n",
    "series_c = driver.find_element(By.CSS_SELECTOR,'div > div > input[aria-label*=\"Series C\"]') # selecting stage Series C\n",
    "driver.execute_script(\"arguments[0].click();\", series_c)    "
   ]
  },
  {
   "cell_type": "code",
   "execution_count": 696,
   "id": "3d803037-da51-497c-8bdd-00dc68649164",
   "metadata": {},
   "outputs": [],
   "source": [
    "#  More Filter - Active Status\n",
    "activestatus = driver.find_element(By.CSS_SELECTOR, 'div a[class*=\"link-more-filters\"]')\n",
    "activestatus.click()\n",
    "time.sleep(3)\n",
    "\n",
    "filteractive= driver.find_element(By.CSS_SELECTOR, 'div > div input[aria-label*=\"Active\"]') # checking the Active Checkbox\n",
    "driver.execute_script(\"arguments[0].click();\", filteractive)\n",
    "\n",
    "applybutton = driver.find_element(By.CSS_SELECTOR,'div.v-card__actions > div > div > button[type*=\"button\"][class$=\"primary\"]') # clicking the apply button\n",
    "driver.execute_script(\"arguments[0].click();\", applybutton)"
   ]
  },
  {
   "cell_type": "code",
   "execution_count": 698,
   "id": "1a0fbfb9-ae74-4b3c-b06c-7d481f6f7d4a",
   "metadata": {
    "tags": []
   },
   "outputs": [
    {
     "name": "stdout",
     "output_type": "stream",
     "text": [
      "Can't find Element\n",
      "Can't find Element\n",
      "Can't find Element\n",
      "Can't find Element\n",
      "Can't find Element\n",
      "Can't find Element\n"
     ]
    }
   ],
   "source": [
    "company_name = []\n",
    "funding_stage =[]\n",
    "employee_range = []\n",
    "email =[]\n",
    "phone_number = []\n",
    "name= []\n",
    "link= []\n",
    "\n",
    "results = driver.find_elements(By.XPATH, '//div[3]/div[@class=\"layout row wrap\"]//div[@class=\"flex xs12\"]')\n",
    "for result in results:\n",
    "    result.click()\n",
    "    time.sleep(4)\n",
    "    \n",
    "    driver.switch_to.window(driver.window_handles[1]) # handles switch to new window\n",
    "    time.sleep(3)\n",
    "    try:\n",
    "        # Scraping Contact Details from Company Page\n",
    "        company = driver.find_element(By.XPATH, '//header/div/div[2]/h1').text\n",
    "        company_name.append(company)\n",
    "        stage= driver.find_element(By.XPATH, '//div[3]/div[2][@class=\"flex section__legend__content xs12 md9\"]').text\n",
    "        funding_stage.append(stage)\n",
    "        employee_count= driver.find_element(By.XPATH, '//div[4]/div[2][@class=\"flex section__legend__content xs12 md9\"]').text\n",
    "        employee_range.append(employee_count)\n",
    "        mail = driver.find_element(By.CSS_SELECTOR, 'a[href^=\"mailto:\"]').text\n",
    "        email.append(mail)\n",
    "        phone =driver.find_element(By.CSS_SELECTOR, 'li.phone > span').text\n",
    "        phone_number.append(phone)\n",
    "        for i in driver.find_elements(By.CSS_SELECTOR, 'div> h4.team__name'):\n",
    "            name.append(i.text)\n",
    "        for j in driver.find_elements(By.CSS_SELECTOR, 'a[href^=\"https://www.linkedin.com/company/\"]'):\n",
    "            link.append(j.get_attribute('href'))\n",
    "    except:\n",
    "        print(\"Can't find Element\")\n",
    "    finally:\n",
    "        driver.close() # Close the new window\n",
    "\n",
    "    \n",
    "    driver.switch_to.window(driver.window_handles[0]) # handles Switching back to main window\n",
    "    "
   ]
  },
  {
   "cell_type": "code",
   "execution_count": 699,
   "id": "e38e932f-6332-43b6-a07a-bac0dee50768",
   "metadata": {},
   "outputs": [],
   "source": [
    "# print(company_name)\n",
    "# print(funding_stage)\n",
    "# print(employee_range)\n",
    "# print(email)\n",
    "# print(phone_number)\n",
    "# print(name)\n",
    "# print(link)"
   ]
  },
  {
   "cell_type": "code",
   "execution_count": 700,
   "id": "08b60e69-9345-41a2-98a2-e57f2eb8a415",
   "metadata": {},
   "outputs": [],
   "source": [
    "#spliting founder name into first and last name\n",
    "first_name= []\n",
    "last_name= []\n",
    "for i in name:\n",
    "    first, last = i.split(' ')\n",
    "    first_name.append(first)\n",
    "    last_name.append(last)\n",
    "    \n",
    "# print(first_name,last_name)"
   ]
  },
  {
   "cell_type": "code",
   "execution_count": 702,
   "id": "b0fa0e96-c9cc-43a3-9d1d-7d98b9feb59b",
   "metadata": {},
   "outputs": [
    {
     "ename": "TypeError",
     "evalue": "can only concatenate str (not \"list\") to str",
     "output_type": "error",
     "traceback": [
      "\u001b[1;31m---------------------------------------------------------------------------\u001b[0m",
      "\u001b[1;31mTypeError\u001b[0m                                 Traceback (most recent call last)",
      "\u001b[1;32mC:\\Users\\JEFFRE~1\\AppData\\Local\\Temp/ipykernel_16876/3906942335.py\u001b[0m in \u001b[0;36m<module>\u001b[1;34m\u001b[0m\n\u001b[0;32m      2\u001b[0m \u001b[1;31m# contact = [first_name + last_name + company_name + funding_stage + employee_range + email + phone_number + link]\u001b[0m\u001b[1;33m\u001b[0m\u001b[1;33m\u001b[0m\u001b[0m\n\u001b[0;32m      3\u001b[0m \u001b[1;33m\u001b[0m\u001b[0m\n\u001b[1;32m----> 4\u001b[1;33m \u001b[0mcontact\u001b[0m \u001b[1;33m=\u001b[0m \u001b[1;33m[\u001b[0m\u001b[0mcompany\u001b[0m \u001b[1;33m+\u001b[0m \u001b[0mstage\u001b[0m \u001b[1;33m+\u001b[0m \u001b[0memployee_count\u001b[0m \u001b[1;33m+\u001b[0m \u001b[0mmail\u001b[0m \u001b[1;33m+\u001b[0m \u001b[0mphone\u001b[0m \u001b[1;33m+\u001b[0m \u001b[0mname\u001b[0m \u001b[1;33m+\u001b[0m \u001b[0mlink\u001b[0m \u001b[1;33m]\u001b[0m\u001b[1;33m\u001b[0m\u001b[1;33m\u001b[0m\u001b[0m\n\u001b[0m\u001b[0;32m      5\u001b[0m \u001b[1;33m\u001b[0m\u001b[0m\n\u001b[0;32m      6\u001b[0m \u001b[0mcontact_data\u001b[0m \u001b[1;33m=\u001b[0m \u001b[1;33m[\u001b[0m\u001b[1;33m]\u001b[0m\u001b[1;33m\u001b[0m\u001b[1;33m\u001b[0m\u001b[0m\n",
      "\u001b[1;31mTypeError\u001b[0m: can only concatenate str (not \"list\") to str"
     ]
    }
   ],
   "source": [
    "# Concatenating the lists of details \n",
    "contact = [first_name + last_name + company_name + funding_stage + employee_range + email + phone_number + link]\n",
    "\n",
    "contact_data = []\n",
    "contact_data.append(contact) \n",
    "print(contact_data)"
   ]
  },
  {
   "cell_type": "code",
   "execution_count": null,
   "id": "2a1e3306-6c6a-45bd-833d-589857ad7846",
   "metadata": {},
   "outputs": [],
   "source": [
    "# Converting List to Pandas Dataframe\n",
    "# contacts = pd.DataFrame(contact_data, columns=[first_name, last_name, email, phone_number, company_name, employee_range, funding_stage, link])\n",
    "\n",
    "# contacts"
   ]
  },
  {
   "cell_type": "code",
   "execution_count": null,
   "id": "564279a8-6470-4bf9-ac4e-d4741716db92",
   "metadata": {},
   "outputs": [],
   "source": [
    "# Convert to excel \n",
    "# StartupSG_Contact_listcontacts.DataFrame.to_excel('C:\\Users\\Jeffrey Esedo\\Desktop\\Scraping_job_francis\\StartupSG_Contact_list.xlsx')"
   ]
  }
 ],
 "metadata": {
  "kernelspec": {
   "display_name": "Python 3 (ipykernel)",
   "language": "python",
   "name": "python3"
  },
  "language_info": {
   "codemirror_mode": {
    "name": "ipython",
    "version": 3
   },
   "file_extension": ".py",
   "mimetype": "text/x-python",
   "name": "python",
   "nbconvert_exporter": "python",
   "pygments_lexer": "ipython3",
   "version": "3.9.7"
  }
 },
 "nbformat": 4,
 "nbformat_minor": 5
}
