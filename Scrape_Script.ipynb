{
 "cells": [
  {
   "cell_type": "code",
   "execution_count": 120,
   "id": "091c9834-a1f9-4b4f-9618-c9e2f290d4d0",
   "metadata": {},
   "outputs": [],
   "source": [
    "\n",
    "# from selenium import webdriver\n",
    "\n",
    "\n",
    "# PATH = \"C:\\SeleniumDrivers\\chromedriver.exe\"\n",
    "# driver = webdriver.Chrome(PATH)\n",
    "\n",
    "# driver.get(\"https://www.startupsg.gov.sg/directory/startups/\")"
   ]
  },
  {
   "cell_type": "code",
   "execution_count": 121,
   "id": "b291e056-cf11-4f9f-9d97-4b78cf7ce87a",
   "metadata": {},
   "outputs": [],
   "source": [
    "# importing libraries \n",
    "import os   # library to import chromedrive.exe\n",
    "from selenium import webdriver\n",
    "from selenium.webdriver.common.keys import Keys\n",
    "from selenium.webdriver.common.by import By # for locating elements in pages\n",
    "from selenium.webdriver.support.ui import WebDriverWait\n",
    "from selenium.webdriver.support import expected_conditions as EC\n",
    "\n",
    "os.environ[\"PATH\"] += r\"C:\\SeleniumDrivers\\chromedriver.exe\" # importing chromedrive.exe from path location using os\n",
    "                                                             # this is standard, and must be done if you want ot run the script on another server \n",
    "    \n",
    "driver.implicitly_wait(15)\n",
    "driver= webdriver.Chrome()\n",
    "driver.get(\"https://www.startupsg.gov.sg/directory/startups/?sort=-changed&q\") # getting website "
   ]
  },
  {
   "cell_type": "code",
   "execution_count": 122,
   "id": "9881fabf-d831-4692-8375-88630eb40746",
   "metadata": {},
   "outputs": [],
   "source": [
    "# Quiting browser and closing tabs \n",
    "# driver.close() # close the website tab on the browser\n",
    "# driver.quit() # quits the browser"
   ]
  },
  {
   "cell_type": "code",
   "execution_count": 123,
   "id": "c4466258-3d70-4d6f-8a49-87dfd7962e78",
   "metadata": {},
   "outputs": [
    {
     "name": "stderr",
     "output_type": "stream",
     "text": [
      "C:\\Users\\JEFFRE~1\\AppData\\Local\\Temp/ipykernel_13360/3581255925.py:6: DeprecationWarning: find_element_by_* commands are deprecated. Please use find_element() instead\n",
      "  loginbutton= driver.find_element_by_xpath('//*[@id=\"app\"]/div[13]/div/div[1]/aside/div[1]/a')\n"
     ]
    },
    {
     "ename": "NoSuchElementException",
     "evalue": "Message: no such element: Unable to locate element: {\"method\":\"xpath\",\"selector\":\"//*[@id=\"app\"]/div[13]/div/div[1]/aside/div[1]/a\"}\n  (Session info: chrome=100.0.4896.88)\nStacktrace:\nBacktrace:\n\tOrdinal0 [0x006A7413+2389011]\n\tOrdinal0 [0x00639F61+1941345]\n\tOrdinal0 [0x0052C658+837208]\n\tOrdinal0 [0x005591DD+1020381]\n\tOrdinal0 [0x0055949B+1021083]\n\tOrdinal0 [0x00586032+1204274]\n\tOrdinal0 [0x00574194+1130900]\n\tOrdinal0 [0x00584302+1196802]\n\tOrdinal0 [0x00573F66+1130342]\n\tOrdinal0 [0x0054E546+976198]\n\tOrdinal0 [0x0054F456+980054]\n\tGetHandleVerifier [0x00859632+1727522]\n\tGetHandleVerifier [0x0090BA4D+2457661]\n\tGetHandleVerifier [0x0073EB81+569713]\n\tGetHandleVerifier [0x0073DD76+566118]\n\tOrdinal0 [0x00640B2B+1968939]\n\tOrdinal0 [0x00645988+1989000]\n\tOrdinal0 [0x00645A75+1989237]\n\tOrdinal0 [0x0064ECB1+2026673]\n\tBaseThreadInitThunk [0x76B7FA29+25]\n\tRtlGetAppContainerNamedObjectPath [0x77217A7E+286]\n\tRtlGetAppContainerNamedObjectPath [0x77217A4E+238]\n",
     "output_type": "error",
     "traceback": [
      "\u001b[1;31m---------------------------------------------------------------------------\u001b[0m",
      "\u001b[1;31mNoSuchElementException\u001b[0m                    Traceback (most recent call last)",
      "\u001b[1;32mC:\\Users\\JEFFRE~1\\AppData\\Local\\Temp/ipykernel_13360/3581255925.py\u001b[0m in \u001b[0;36m<module>\u001b[1;34m\u001b[0m\n\u001b[0;32m      4\u001b[0m \u001b[1;31m# menubutton.click() # clicking menu button\u001b[0m\u001b[1;33m\u001b[0m\u001b[1;33m\u001b[0m\u001b[0m\n\u001b[0;32m      5\u001b[0m \u001b[1;33m\u001b[0m\u001b[0m\n\u001b[1;32m----> 6\u001b[1;33m \u001b[0mloginbutton\u001b[0m\u001b[1;33m=\u001b[0m \u001b[0mdriver\u001b[0m\u001b[1;33m.\u001b[0m\u001b[0mfind_element_by_xpath\u001b[0m\u001b[1;33m(\u001b[0m\u001b[1;34m'//*[@id=\"app\"]/div[13]/div/div[1]/aside/div[1]/a'\u001b[0m\u001b[1;33m)\u001b[0m\u001b[1;33m\u001b[0m\u001b[1;33m\u001b[0m\u001b[0m\n\u001b[0m\u001b[0;32m      7\u001b[0m \u001b[0mloginbutton\u001b[0m\u001b[1;33m.\u001b[0m\u001b[0mclick\u001b[0m\u001b[1;33m(\u001b[0m\u001b[1;33m)\u001b[0m\u001b[1;33m\u001b[0m\u001b[1;33m\u001b[0m\u001b[0m\n\u001b[0;32m      8\u001b[0m \u001b[1;33m\u001b[0m\u001b[0m\n",
      "\u001b[1;32m~\\anaconda3\\envs\\py3\\lib\\site-packages\\selenium\\webdriver\\remote\\webdriver.py\u001b[0m in \u001b[0;36mfind_element_by_xpath\u001b[1;34m(self, xpath)\u001b[0m\n\u001b[0;32m    518\u001b[0m             \u001b[0mstacklevel\u001b[0m\u001b[1;33m=\u001b[0m\u001b[1;36m2\u001b[0m\u001b[1;33m,\u001b[0m\u001b[1;33m\u001b[0m\u001b[1;33m\u001b[0m\u001b[0m\n\u001b[0;32m    519\u001b[0m         )\n\u001b[1;32m--> 520\u001b[1;33m         \u001b[1;32mreturn\u001b[0m \u001b[0mself\u001b[0m\u001b[1;33m.\u001b[0m\u001b[0mfind_element\u001b[0m\u001b[1;33m(\u001b[0m\u001b[0mby\u001b[0m\u001b[1;33m=\u001b[0m\u001b[0mBy\u001b[0m\u001b[1;33m.\u001b[0m\u001b[0mXPATH\u001b[0m\u001b[1;33m,\u001b[0m \u001b[0mvalue\u001b[0m\u001b[1;33m=\u001b[0m\u001b[0mxpath\u001b[0m\u001b[1;33m)\u001b[0m\u001b[1;33m\u001b[0m\u001b[1;33m\u001b[0m\u001b[0m\n\u001b[0m\u001b[0;32m    521\u001b[0m \u001b[1;33m\u001b[0m\u001b[0m\n\u001b[0;32m    522\u001b[0m     \u001b[1;32mdef\u001b[0m \u001b[0mfind_elements_by_xpath\u001b[0m\u001b[1;33m(\u001b[0m\u001b[0mself\u001b[0m\u001b[1;33m,\u001b[0m \u001b[0mxpath\u001b[0m\u001b[1;33m)\u001b[0m \u001b[1;33m->\u001b[0m \u001b[0mWebElement\u001b[0m\u001b[1;33m:\u001b[0m\u001b[1;33m\u001b[0m\u001b[1;33m\u001b[0m\u001b[0m\n",
      "\u001b[1;32m~\\anaconda3\\envs\\py3\\lib\\site-packages\\selenium\\webdriver\\remote\\webdriver.py\u001b[0m in \u001b[0;36mfind_element\u001b[1;34m(self, by, value)\u001b[0m\n\u001b[0;32m   1242\u001b[0m             \u001b[0mvalue\u001b[0m \u001b[1;33m=\u001b[0m \u001b[1;34m'[name=\"%s\"]'\u001b[0m \u001b[1;33m%\u001b[0m \u001b[0mvalue\u001b[0m\u001b[1;33m\u001b[0m\u001b[1;33m\u001b[0m\u001b[0m\n\u001b[0;32m   1243\u001b[0m \u001b[1;33m\u001b[0m\u001b[0m\n\u001b[1;32m-> 1244\u001b[1;33m         return self.execute(Command.FIND_ELEMENT, {\n\u001b[0m\u001b[0;32m   1245\u001b[0m             \u001b[1;34m'using'\u001b[0m\u001b[1;33m:\u001b[0m \u001b[0mby\u001b[0m\u001b[1;33m,\u001b[0m\u001b[1;33m\u001b[0m\u001b[1;33m\u001b[0m\u001b[0m\n\u001b[0;32m   1246\u001b[0m             'value': value})['value']\n",
      "\u001b[1;32m~\\anaconda3\\envs\\py3\\lib\\site-packages\\selenium\\webdriver\\remote\\webdriver.py\u001b[0m in \u001b[0;36mexecute\u001b[1;34m(self, driver_command, params)\u001b[0m\n\u001b[0;32m    422\u001b[0m         \u001b[0mresponse\u001b[0m \u001b[1;33m=\u001b[0m \u001b[0mself\u001b[0m\u001b[1;33m.\u001b[0m\u001b[0mcommand_executor\u001b[0m\u001b[1;33m.\u001b[0m\u001b[0mexecute\u001b[0m\u001b[1;33m(\u001b[0m\u001b[0mdriver_command\u001b[0m\u001b[1;33m,\u001b[0m \u001b[0mparams\u001b[0m\u001b[1;33m)\u001b[0m\u001b[1;33m\u001b[0m\u001b[1;33m\u001b[0m\u001b[0m\n\u001b[0;32m    423\u001b[0m         \u001b[1;32mif\u001b[0m \u001b[0mresponse\u001b[0m\u001b[1;33m:\u001b[0m\u001b[1;33m\u001b[0m\u001b[1;33m\u001b[0m\u001b[0m\n\u001b[1;32m--> 424\u001b[1;33m             \u001b[0mself\u001b[0m\u001b[1;33m.\u001b[0m\u001b[0merror_handler\u001b[0m\u001b[1;33m.\u001b[0m\u001b[0mcheck_response\u001b[0m\u001b[1;33m(\u001b[0m\u001b[0mresponse\u001b[0m\u001b[1;33m)\u001b[0m\u001b[1;33m\u001b[0m\u001b[1;33m\u001b[0m\u001b[0m\n\u001b[0m\u001b[0;32m    425\u001b[0m             response['value'] = self._unwrap_value(\n\u001b[0;32m    426\u001b[0m                 response.get('value', None))\n",
      "\u001b[1;32m~\\anaconda3\\envs\\py3\\lib\\site-packages\\selenium\\webdriver\\remote\\errorhandler.py\u001b[0m in \u001b[0;36mcheck_response\u001b[1;34m(self, response)\u001b[0m\n\u001b[0;32m    245\u001b[0m                 \u001b[0malert_text\u001b[0m \u001b[1;33m=\u001b[0m \u001b[0mvalue\u001b[0m\u001b[1;33m[\u001b[0m\u001b[1;34m'alert'\u001b[0m\u001b[1;33m]\u001b[0m\u001b[1;33m.\u001b[0m\u001b[0mget\u001b[0m\u001b[1;33m(\u001b[0m\u001b[1;34m'text'\u001b[0m\u001b[1;33m)\u001b[0m\u001b[1;33m\u001b[0m\u001b[1;33m\u001b[0m\u001b[0m\n\u001b[0;32m    246\u001b[0m             \u001b[1;32mraise\u001b[0m \u001b[0mexception_class\u001b[0m\u001b[1;33m(\u001b[0m\u001b[0mmessage\u001b[0m\u001b[1;33m,\u001b[0m \u001b[0mscreen\u001b[0m\u001b[1;33m,\u001b[0m \u001b[0mstacktrace\u001b[0m\u001b[1;33m,\u001b[0m \u001b[0malert_text\u001b[0m\u001b[1;33m)\u001b[0m  \u001b[1;31m# type: ignore[call-arg]  # mypy is not smart enough here\u001b[0m\u001b[1;33m\u001b[0m\u001b[1;33m\u001b[0m\u001b[0m\n\u001b[1;32m--> 247\u001b[1;33m         \u001b[1;32mraise\u001b[0m \u001b[0mexception_class\u001b[0m\u001b[1;33m(\u001b[0m\u001b[0mmessage\u001b[0m\u001b[1;33m,\u001b[0m \u001b[0mscreen\u001b[0m\u001b[1;33m,\u001b[0m \u001b[0mstacktrace\u001b[0m\u001b[1;33m)\u001b[0m\u001b[1;33m\u001b[0m\u001b[1;33m\u001b[0m\u001b[0m\n\u001b[0m\u001b[0;32m    248\u001b[0m \u001b[1;33m\u001b[0m\u001b[0m\n\u001b[0;32m    249\u001b[0m     \u001b[1;32mdef\u001b[0m \u001b[0m_value_or_default\u001b[0m\u001b[1;33m(\u001b[0m\u001b[0mself\u001b[0m\u001b[1;33m,\u001b[0m \u001b[0mobj\u001b[0m\u001b[1;33m:\u001b[0m \u001b[0mMapping\u001b[0m\u001b[1;33m[\u001b[0m\u001b[0m_KT\u001b[0m\u001b[1;33m,\u001b[0m \u001b[0m_VT\u001b[0m\u001b[1;33m]\u001b[0m\u001b[1;33m,\u001b[0m \u001b[0mkey\u001b[0m\u001b[1;33m:\u001b[0m \u001b[0m_KT\u001b[0m\u001b[1;33m,\u001b[0m \u001b[0mdefault\u001b[0m\u001b[1;33m:\u001b[0m \u001b[0m_VT\u001b[0m\u001b[1;33m)\u001b[0m \u001b[1;33m->\u001b[0m \u001b[0m_VT\u001b[0m\u001b[1;33m:\u001b[0m\u001b[1;33m\u001b[0m\u001b[1;33m\u001b[0m\u001b[0m\n",
      "\u001b[1;31mNoSuchElementException\u001b[0m: Message: no such element: Unable to locate element: {\"method\":\"xpath\",\"selector\":\"//*[@id=\"app\"]/div[13]/div/div[1]/aside/div[1]/a\"}\n  (Session info: chrome=100.0.4896.88)\nStacktrace:\nBacktrace:\n\tOrdinal0 [0x006A7413+2389011]\n\tOrdinal0 [0x00639F61+1941345]\n\tOrdinal0 [0x0052C658+837208]\n\tOrdinal0 [0x005591DD+1020381]\n\tOrdinal0 [0x0055949B+1021083]\n\tOrdinal0 [0x00586032+1204274]\n\tOrdinal0 [0x00574194+1130900]\n\tOrdinal0 [0x00584302+1196802]\n\tOrdinal0 [0x00573F66+1130342]\n\tOrdinal0 [0x0054E546+976198]\n\tOrdinal0 [0x0054F456+980054]\n\tGetHandleVerifier [0x00859632+1727522]\n\tGetHandleVerifier [0x0090BA4D+2457661]\n\tGetHandleVerifier [0x0073EB81+569713]\n\tGetHandleVerifier [0x0073DD76+566118]\n\tOrdinal0 [0x00640B2B+1968939]\n\tOrdinal0 [0x00645988+1989000]\n\tOrdinal0 [0x00645A75+1989237]\n\tOrdinal0 [0x0064ECB1+2026673]\n\tBaseThreadInitThunk [0x76B7FA29+25]\n\tRtlGetAppContainerNamedObjectPath [0x77217A7E+286]\n\tRtlGetAppContainerNamedObjectPath [0x77217A4E+238]\n"
     ]
    }
   ],
   "source": [
    "# Login to Dashboard\n",
    "\n",
    "# menubutton= driver.find_element_by_class_name('v-ripple__container') # identifying menu button\n",
    "# menubutton.click() # clicking menu button\n",
    "\n",
    "loginbutton= driver.find_element_by_xpath('//*[@id=\"app\"]/div[13]/div/div[1]/aside/div[1]/a')\n",
    "loginbutton.click()\n",
    "\n",
    "\n"
   ]
  },
  {
   "cell_type": "code",
   "execution_count": null,
   "id": "8cb17e5f-7789-4c3f-b117-8ec663ef97ae",
   "metadata": {},
   "outputs": [],
   "source": []
  }
 ],
 "metadata": {
  "kernelspec": {
   "display_name": "Python 3 (ipykernel)",
   "language": "python",
   "name": "python3"
  },
  "language_info": {
   "codemirror_mode": {
    "name": "ipython",
    "version": 3
   },
   "file_extension": ".py",
   "mimetype": "text/x-python",
   "name": "python",
   "nbconvert_exporter": "python",
   "pygments_lexer": "ipython3",
   "version": "3.9.7"
  }
 },
 "nbformat": 4,
 "nbformat_minor": 5
}
