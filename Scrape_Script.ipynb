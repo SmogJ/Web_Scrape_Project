{
 "cells": [
  {
   "cell_type": "code",
   "execution_count": 292,
   "id": "94077bdc-b7d7-4043-8324-6e38d38c0c20",
   "metadata": {},
   "outputs": [],
   "source": [
    "# importing libraries \n",
    "import os   # library to import chromedrive.exe\n",
    "from selenium import webdriver\n",
    "from selenium.webdriver.common.keys import Keys # assign keyboard commands\n",
    "from selenium.webdriver.common.by import By # for locating elements in pages\n",
    "from selenium.webdriver.chrome.options import Options as ChromeOptions\n",
    "from selenium.webdriver.support.ui import Select\n",
    "\n",
    "# for conditional walt or Explict wait\n",
    "from selenium.webdriver.support.ui import WebDriverWait\n",
    "from selenium.webdriver.support import expected_conditions as EC \n",
    "\n",
    "os.environ[\"PATH\"] += r\"C:\\SeleniumDrivers\\chromedriver.exe\" # importing chromedrive.exe from path location using os\n",
    "                                                             # this is standard, and must be done if you want ot run the script on another server \n",
    "    \n",
    "driver= webdriver.Chrome()\n",
    "\n",
    "# options = Options()\n",
    "# options.headless = True # Make sure that chrome doesn't automatically opens up on it's own.\n",
    "\n",
    "import pandas as pd \n",
    "import time "
   ]
  },
  {
   "cell_type": "code",
   "execution_count": null,
   "id": "8f81c82c-bced-4bff-80ff-81bb0e882c4a",
   "metadata": {},
   "outputs": [],
   "source": [
    "# Getting the Url\n",
    "\n",
    "driver.implicitly_wait(10)\n",
    "driver.get(\"https://www.startupsg.gov.sg/directory/startups/\") # getting website\n",
    "driver.maximize_window() # maximizing browser window"
   ]
  },
  {
   "cell_type": "code",
   "execution_count": 281,
   "id": "c4466258-3d70-4d6f-8a49-87dfd7962e78",
   "metadata": {},
   "outputs": [],
   "source": [
    "# #Login to Dashboard\n",
    "\n",
    "login = driver.find_element(By.XPATH, '//nav/div/div/div/a').click()\n",
    "\n",
    "user_email =  driver.find_element(By.XPATH,'//form/div[1]/div/div[1]/div/input')\n",
    "user_email.click()\n",
    "user_email.send_keys('francismaduakor7@gmail.com')\n",
    "\n",
    "password = driver.find_element(By.XPATH,'//form/div[2]/div/div[1]/div/input')\n",
    "password.click()\n",
    "password.send_keys('qwerty123aA@')\n",
    "\n",
    "login_button = driver.find_element(By.XPATH,'//div/div[2]/div/form/button')\n",
    "login_button.click()\n"
   ]
  },
  {
   "cell_type": "code",
   "execution_count": 283,
   "id": "c1c6d0ac-92eb-4585-a1fb-90b5cdab6c1a",
   "metadata": {},
   "outputs": [],
   "source": [
    "# Selecting Funding stage\n",
    "\n",
    "fundingstage = WebDriverWait(driver, 5).until(EC.presence_of_element_located((By.XPATH,'//*[@id=\"app\"]/div[15]/div/main/div/div/div/div/div/div[3]/div/div/div[2]/div/div/div'))) # clicking on the funding button\n",
    "fundingstage.click()\n",
    "\n",
    "# Filter Funding Stages\n",
    "\n",
    "seed = driver.find_element(By.CSS_SELECTOR,'div > div > input[aria-label*=\"Seed\"]') # selecting stage SEED\n",
    "driver.execute_script(\"arguments[0].click();\", seed)                                # changing the css input sting input[aria-label*=\"Seed\"]\n",
    "\n",
    "pseries_a = driver.find_element(By.CSS_SELECTOR,'div > div > input[aria-label*=\"Pre-series A\"]') # selecting stage Pre-Series A\n",
    "driver.execute_script(\"arguments[0].click();\", pseries_a)    \n",
    "\n",
    "series_a = driver.find_element(By.CSS_SELECTOR,'div > div > input[aria-label*=\"Series A\"]') # selecting stage Series A \n",
    "driver.execute_script(\"arguments[0].click();\", series_a)    \n",
    "\n",
    "series_b = driver.find_element(By.CSS_SELECTOR,'div > div > input[aria-label*=\"Series B\"]') # selecting stage Series B\n",
    "driver.execute_script(\"arguments[0].click();\", series_b)    \n",
    "\n",
    "series_c = driver.find_element(By.CSS_SELECTOR,'div > div > input[aria-label*=\"Series C\"]') # selecting stage Series C\n",
    "driver.execute_script(\"arguments[0].click();\", series_c)    "
   ]
  },
  {
   "cell_type": "code",
   "execution_count": 284,
   "id": "3d803037-da51-497c-8bdd-00dc68649164",
   "metadata": {},
   "outputs": [],
   "source": [
    "#  More Filter - Active Status\n",
    "activestatus = driver.find_element(By.CSS_SELECTOR, 'div a[class*=\"link-more-filters\"]')\n",
    "activestatus.click()\n",
    "time.sleep(3)\n",
    "\n",
    "filteractive= driver.find_element(By.CSS_SELECTOR, 'div > div input[aria-label*=\"Active\"]') # checking the Active Checkbox\n",
    "driver.execute_script(\"arguments[0].click();\", filteractive)\n",
    "\n",
    "applybutton = driver.find_element(By.CSS_SELECTOR,'div.v-card__actions > div > div > button[type*=\"button\"][class$=\"primary\"]') # clicking the apply button\n",
    "driver.execute_script(\"arguments[0].click();\", applybutton)"
   ]
  },
  {
   "cell_type": "code",
   "execution_count": 291,
   "id": "e284375c-cd7a-4c2f-acc3-26a6b986d462",
   "metadata": {},
   "outputs": [
    {
     "ename": "NoSuchElementException",
     "evalue": "Message: no such element: Unable to locate element: {\"method\":\"xpath\",\"selector\":\"//section/section/div[2]/div/div[@class=\"flex xs12\"]\"}\n  (Session info: chrome=100.0.4896.127)\nStacktrace:\nBacktrace:\n\tOrdinal0 [0x006D7413+2389011]\n\tOrdinal0 [0x00669F61+1941345]\n\tOrdinal0 [0x0055C658+837208]\n\tOrdinal0 [0x005891DD+1020381]\n\tOrdinal0 [0x0058949B+1021083]\n\tOrdinal0 [0x0057F9F1+981489]\n\tOrdinal0 [0x005A4194+1130900]\n\tOrdinal0 [0x0057F974+981364]\n\tOrdinal0 [0x005A4364+1131364]\n\tOrdinal0 [0x005B4302+1196802]\n\tOrdinal0 [0x005A3F66+1130342]\n\tOrdinal0 [0x0057E546+976198]\n\tOrdinal0 [0x0057F456+980054]\n\tGetHandleVerifier [0x00889632+1727522]\n\tGetHandleVerifier [0x0093BA4D+2457661]\n\tGetHandleVerifier [0x0076EB81+569713]\n\tGetHandleVerifier [0x0076DD76+566118]\n\tOrdinal0 [0x00670B2B+1968939]\n\tOrdinal0 [0x00675988+1989000]\n\tOrdinal0 [0x00675A75+1989237]\n\tOrdinal0 [0x0067ECB1+2026673]\n\tBaseThreadInitThunk [0x7626FA29+25]\n\tRtlGetAppContainerNamedObjectPath [0x77997A7E+286]\n\tRtlGetAppContainerNamedObjectPath [0x77997A4E+238]\n",
     "output_type": "error",
     "traceback": [
      "\u001b[1;31m---------------------------------------------------------------------------\u001b[0m",
      "\u001b[1;31mNoSuchElementException\u001b[0m                    Traceback (most recent call last)",
      "\u001b[1;32mC:\\Users\\JEFFRE~1\\AppData\\Local\\Temp/ipykernel_5500/4036324380.py\u001b[0m in \u001b[0;36m<module>\u001b[1;34m\u001b[0m\n\u001b[0;32m     10\u001b[0m \u001b[1;33m\u001b[0m\u001b[0m\n\u001b[0;32m     11\u001b[0m     \u001b[1;32mfor\u001b[0m \u001b[0mresult\u001b[0m \u001b[1;32min\u001b[0m \u001b[0mdirectoryresult\u001b[0m\u001b[1;33m:\u001b[0m\u001b[1;33m\u001b[0m\u001b[1;33m\u001b[0m\u001b[0m\n\u001b[1;32m---> 12\u001b[1;33m         \u001b[0mresult\u001b[0m\u001b[1;33m.\u001b[0m\u001b[0mfind_element\u001b[0m\u001b[1;33m(\u001b[0m\u001b[0mBy\u001b[0m\u001b[1;33m.\u001b[0m\u001b[0mXPATH\u001b[0m\u001b[1;33m,\u001b[0m \u001b[1;34m'//section/section/div[2]/div/div[@class=\"flex xs12\"]'\u001b[0m\u001b[1;33m)\u001b[0m    \u001b[1;31m# Clicking the urls\u001b[0m\u001b[1;33m\u001b[0m\u001b[1;33m\u001b[0m\u001b[0m\n\u001b[0m\u001b[0;32m     13\u001b[0m         \u001b[0mtime\u001b[0m\u001b[1;33m.\u001b[0m\u001b[0msleep\u001b[0m\u001b[1;33m(\u001b[0m\u001b[1;36m5\u001b[0m\u001b[1;33m)\u001b[0m\u001b[1;33m\u001b[0m\u001b[1;33m\u001b[0m\u001b[0m\n\u001b[0;32m     14\u001b[0m         \u001b[0mresult\u001b[0m\u001b[1;33m.\u001b[0m\u001b[0mclick\u001b[0m\u001b[1;33m(\u001b[0m\u001b[1;33m)\u001b[0m\u001b[1;33m\u001b[0m\u001b[1;33m\u001b[0m\u001b[0m\n",
      "\u001b[1;32m~\\anaconda3\\envs\\py3\\lib\\site-packages\\selenium\\webdriver\\remote\\webelement.py\u001b[0m in \u001b[0;36mfind_element\u001b[1;34m(self, by, value)\u001b[0m\n\u001b[0;32m    733\u001b[0m             \u001b[0mvalue\u001b[0m \u001b[1;33m=\u001b[0m \u001b[1;34m'[name=\"%s\"]'\u001b[0m \u001b[1;33m%\u001b[0m \u001b[0mvalue\u001b[0m\u001b[1;33m\u001b[0m\u001b[1;33m\u001b[0m\u001b[0m\n\u001b[0;32m    734\u001b[0m \u001b[1;33m\u001b[0m\u001b[0m\n\u001b[1;32m--> 735\u001b[1;33m         return self._execute(Command.FIND_CHILD_ELEMENT,\n\u001b[0m\u001b[0;32m    736\u001b[0m                              {\"using\": by, \"value\": value})['value']\n\u001b[0;32m    737\u001b[0m \u001b[1;33m\u001b[0m\u001b[0m\n",
      "\u001b[1;32m~\\anaconda3\\envs\\py3\\lib\\site-packages\\selenium\\webdriver\\remote\\webelement.py\u001b[0m in \u001b[0;36m_execute\u001b[1;34m(self, command, params)\u001b[0m\n\u001b[0;32m    708\u001b[0m             \u001b[0mparams\u001b[0m \u001b[1;33m=\u001b[0m \u001b[1;33m{\u001b[0m\u001b[1;33m}\u001b[0m\u001b[1;33m\u001b[0m\u001b[1;33m\u001b[0m\u001b[0m\n\u001b[0;32m    709\u001b[0m         \u001b[0mparams\u001b[0m\u001b[1;33m[\u001b[0m\u001b[1;34m'id'\u001b[0m\u001b[1;33m]\u001b[0m \u001b[1;33m=\u001b[0m \u001b[0mself\u001b[0m\u001b[1;33m.\u001b[0m\u001b[0m_id\u001b[0m\u001b[1;33m\u001b[0m\u001b[1;33m\u001b[0m\u001b[0m\n\u001b[1;32m--> 710\u001b[1;33m         \u001b[1;32mreturn\u001b[0m \u001b[0mself\u001b[0m\u001b[1;33m.\u001b[0m\u001b[0m_parent\u001b[0m\u001b[1;33m.\u001b[0m\u001b[0mexecute\u001b[0m\u001b[1;33m(\u001b[0m\u001b[0mcommand\u001b[0m\u001b[1;33m,\u001b[0m \u001b[0mparams\u001b[0m\u001b[1;33m)\u001b[0m\u001b[1;33m\u001b[0m\u001b[1;33m\u001b[0m\u001b[0m\n\u001b[0m\u001b[0;32m    711\u001b[0m \u001b[1;33m\u001b[0m\u001b[0m\n\u001b[0;32m    712\u001b[0m     \u001b[1;32mdef\u001b[0m \u001b[0mfind_element\u001b[0m\u001b[1;33m(\u001b[0m\u001b[0mself\u001b[0m\u001b[1;33m,\u001b[0m \u001b[0mby\u001b[0m\u001b[1;33m=\u001b[0m\u001b[0mBy\u001b[0m\u001b[1;33m.\u001b[0m\u001b[0mID\u001b[0m\u001b[1;33m,\u001b[0m \u001b[0mvalue\u001b[0m\u001b[1;33m=\u001b[0m\u001b[1;32mNone\u001b[0m\u001b[1;33m)\u001b[0m\u001b[1;33m:\u001b[0m\u001b[1;33m\u001b[0m\u001b[1;33m\u001b[0m\u001b[0m\n",
      "\u001b[1;32m~\\anaconda3\\envs\\py3\\lib\\site-packages\\selenium\\webdriver\\remote\\webdriver.py\u001b[0m in \u001b[0;36mexecute\u001b[1;34m(self, driver_command, params)\u001b[0m\n\u001b[0;32m    422\u001b[0m         \u001b[0mresponse\u001b[0m \u001b[1;33m=\u001b[0m \u001b[0mself\u001b[0m\u001b[1;33m.\u001b[0m\u001b[0mcommand_executor\u001b[0m\u001b[1;33m.\u001b[0m\u001b[0mexecute\u001b[0m\u001b[1;33m(\u001b[0m\u001b[0mdriver_command\u001b[0m\u001b[1;33m,\u001b[0m \u001b[0mparams\u001b[0m\u001b[1;33m)\u001b[0m\u001b[1;33m\u001b[0m\u001b[1;33m\u001b[0m\u001b[0m\n\u001b[0;32m    423\u001b[0m         \u001b[1;32mif\u001b[0m \u001b[0mresponse\u001b[0m\u001b[1;33m:\u001b[0m\u001b[1;33m\u001b[0m\u001b[1;33m\u001b[0m\u001b[0m\n\u001b[1;32m--> 424\u001b[1;33m             \u001b[0mself\u001b[0m\u001b[1;33m.\u001b[0m\u001b[0merror_handler\u001b[0m\u001b[1;33m.\u001b[0m\u001b[0mcheck_response\u001b[0m\u001b[1;33m(\u001b[0m\u001b[0mresponse\u001b[0m\u001b[1;33m)\u001b[0m\u001b[1;33m\u001b[0m\u001b[1;33m\u001b[0m\u001b[0m\n\u001b[0m\u001b[0;32m    425\u001b[0m             response['value'] = self._unwrap_value(\n\u001b[0;32m    426\u001b[0m                 response.get('value', None))\n",
      "\u001b[1;32m~\\anaconda3\\envs\\py3\\lib\\site-packages\\selenium\\webdriver\\remote\\errorhandler.py\u001b[0m in \u001b[0;36mcheck_response\u001b[1;34m(self, response)\u001b[0m\n\u001b[0;32m    245\u001b[0m                 \u001b[0malert_text\u001b[0m \u001b[1;33m=\u001b[0m \u001b[0mvalue\u001b[0m\u001b[1;33m[\u001b[0m\u001b[1;34m'alert'\u001b[0m\u001b[1;33m]\u001b[0m\u001b[1;33m.\u001b[0m\u001b[0mget\u001b[0m\u001b[1;33m(\u001b[0m\u001b[1;34m'text'\u001b[0m\u001b[1;33m)\u001b[0m\u001b[1;33m\u001b[0m\u001b[1;33m\u001b[0m\u001b[0m\n\u001b[0;32m    246\u001b[0m             \u001b[1;32mraise\u001b[0m \u001b[0mexception_class\u001b[0m\u001b[1;33m(\u001b[0m\u001b[0mmessage\u001b[0m\u001b[1;33m,\u001b[0m \u001b[0mscreen\u001b[0m\u001b[1;33m,\u001b[0m \u001b[0mstacktrace\u001b[0m\u001b[1;33m,\u001b[0m \u001b[0malert_text\u001b[0m\u001b[1;33m)\u001b[0m  \u001b[1;31m# type: ignore[call-arg]  # mypy is not smart enough here\u001b[0m\u001b[1;33m\u001b[0m\u001b[1;33m\u001b[0m\u001b[0m\n\u001b[1;32m--> 247\u001b[1;33m         \u001b[1;32mraise\u001b[0m \u001b[0mexception_class\u001b[0m\u001b[1;33m(\u001b[0m\u001b[0mmessage\u001b[0m\u001b[1;33m,\u001b[0m \u001b[0mscreen\u001b[0m\u001b[1;33m,\u001b[0m \u001b[0mstacktrace\u001b[0m\u001b[1;33m)\u001b[0m\u001b[1;33m\u001b[0m\u001b[1;33m\u001b[0m\u001b[0m\n\u001b[0m\u001b[0;32m    248\u001b[0m \u001b[1;33m\u001b[0m\u001b[0m\n\u001b[0;32m    249\u001b[0m     \u001b[1;32mdef\u001b[0m \u001b[0m_value_or_default\u001b[0m\u001b[1;33m(\u001b[0m\u001b[0mself\u001b[0m\u001b[1;33m,\u001b[0m \u001b[0mobj\u001b[0m\u001b[1;33m:\u001b[0m \u001b[0mMapping\u001b[0m\u001b[1;33m[\u001b[0m\u001b[0m_KT\u001b[0m\u001b[1;33m,\u001b[0m \u001b[0m_VT\u001b[0m\u001b[1;33m]\u001b[0m\u001b[1;33m,\u001b[0m \u001b[0mkey\u001b[0m\u001b[1;33m:\u001b[0m \u001b[0m_KT\u001b[0m\u001b[1;33m,\u001b[0m \u001b[0mdefault\u001b[0m\u001b[1;33m:\u001b[0m \u001b[0m_VT\u001b[0m\u001b[1;33m)\u001b[0m \u001b[1;33m->\u001b[0m \u001b[0m_VT\u001b[0m\u001b[1;33m:\u001b[0m\u001b[1;33m\u001b[0m\u001b[1;33m\u001b[0m\u001b[0m\n",
      "\u001b[1;31mNoSuchElementException\u001b[0m: Message: no such element: Unable to locate element: {\"method\":\"xpath\",\"selector\":\"//section/section/div[2]/div/div[@class=\"flex xs12\"]\"}\n  (Session info: chrome=100.0.4896.127)\nStacktrace:\nBacktrace:\n\tOrdinal0 [0x006D7413+2389011]\n\tOrdinal0 [0x00669F61+1941345]\n\tOrdinal0 [0x0055C658+837208]\n\tOrdinal0 [0x005891DD+1020381]\n\tOrdinal0 [0x0058949B+1021083]\n\tOrdinal0 [0x0057F9F1+981489]\n\tOrdinal0 [0x005A4194+1130900]\n\tOrdinal0 [0x0057F974+981364]\n\tOrdinal0 [0x005A4364+1131364]\n\tOrdinal0 [0x005B4302+1196802]\n\tOrdinal0 [0x005A3F66+1130342]\n\tOrdinal0 [0x0057E546+976198]\n\tOrdinal0 [0x0057F456+980054]\n\tGetHandleVerifier [0x00889632+1727522]\n\tGetHandleVerifier [0x0093BA4D+2457661]\n\tGetHandleVerifier [0x0076EB81+569713]\n\tGetHandleVerifier [0x0076DD76+566118]\n\tOrdinal0 [0x00670B2B+1968939]\n\tOrdinal0 [0x00675988+1989000]\n\tOrdinal0 [0x00675A75+1989237]\n\tOrdinal0 [0x0067ECB1+2026673]\n\tBaseThreadInitThunk [0x7626FA29+25]\n\tRtlGetAppContainerNamedObjectPath [0x77997A7E+286]\n\tRtlGetAppContainerNamedObjectPath [0x77997A4E+238]\n"
     ]
    }
   ],
   "source": [
    "# Click on Company Cards \n",
    "# Loop through every entity display name to open in new tab\n",
    "\n",
    "\n",
    "for page in range(3):\n",
    "    time.sleep(5)\n",
    "\n",
    "    # # directoryresult = driver.find_element(By.XPATH, '//*[@id=\"app\"]/div[12]/div/main/div/div/div/section/section/div[3]/div') # Selecting the directory result by xpath\n",
    "    directoryresult = driver.find_elements(By.CSS_SELECTOR, 'section > section > div.v-data-iterator.theme--light > div > div[class*=\"flex xs12\"]') # Selecting the directory result by css selector\n",
    "    \n",
    "    for result in directoryresult:\n",
    "        result.find_element(By.XPATH, '//section/section/div[2]/div/div[@class=\"flex xs12\"]')    # Clicking the urls\n",
    "        time.sleep(5)\n",
    "        result.click()\n",
    "        \n",
    "            # Opening Company page on new window and Grabing Contact Detials From the Page  \n",
    "        try:\n",
    "            driver.switch_to.window(driver.window_handles[1]) # handles switch to new window\n",
    "\n",
    "            # Scraping Contact Details from Company Page\n",
    "            company_name = driver.find_elements(By.XPATH, '//*[@id=\"app\"]/div[7]/div/main/div/div/section/div[1]/div/section/div/div/div[1]/header/div/div[2]/h1').text\n",
    "            employee_range= driver.find_element(By.XPATH, '//*[@id=\"general\"]/div/div/div/div[2]/div/div[1]/div/div/div[4]/div[2]').text\n",
    "            funding_stage= driver.find_element(By.XPATH, '//*[@id=\"general\"]/div/div/div/div[2]/div/div[1]/div/div/div[3]/div[2]').text\n",
    "            email = driver.find_element(By.XPATH, '//*[@id=\"general\"]/div/div/div/div[2]/div/div[2]/div/ul[1]/li[3]/a').text\n",
    "            phone_number = driver.find_element(By.XPATH, '//div/ul/li[4]/span').text\n",
    "            founder= driver.find_element(By.XPATH, '//*[@id=\"general\"]/div/div/div/div[2]/div/div[2]/div/ul[1]/li[4]/span').text\n",
    "            linkedin = driver.find_elements(By.XPATH, '//*[@id=\"general\"]/div/div/div/div[2]/div/div[2]/div/ul[2]/li[1]/a').get_attribute('href')\n",
    "\n",
    "        except:\n",
    "            pass\n",
    "            print(\"Can't get item\")\n",
    "        finally:\n",
    "            driver.close() # Close the new window\n",
    "\n",
    "            driver.switch_to.window(driver.window_handles[0]) # handles Switching back to main window\n",
    "\n",
    "\n",
    "        # driver.close() # Close the new window\n",
    "\n",
    "        # driver.switch_to.window(driver.window_handles[0]) # handles Switching back to main window \n",
    "\n",
    "\n",
    "        driver.find_element(By.XPATH,'//button[@class=\"v-pagination__navigation\"]').click() # clicking the next button\n"
   ]
  },
  {
   "cell_type": "code",
   "execution_count": null,
   "id": "e38e932f-6332-43b6-a07a-bac0dee50768",
   "metadata": {},
   "outputs": [],
   "source": [
    "# print(founder)\n",
    "# print(company_email)\n",
    "# print(phone_number)\n",
    "print(company_name)\n",
    "# print(employee_range)\n",
    "# print(company_stage)\n",
    "# print(social_links)"
   ]
  },
  {
   "cell_type": "code",
   "execution_count": null,
   "id": "b0fa0e96-c9cc-43a3-9d1d-7d98b9feb59b",
   "metadata": {},
   "outputs": [],
   "source": [
    "# Concatenating the lists of details \n",
    "# Contact_details = [First_name, Last_name, company_email, phone_number, company_name, employee_range, company_stage, social_links]"
   ]
  },
  {
   "cell_type": "code",
   "execution_count": null,
   "id": "2a1e3306-6c6a-45bd-833d-589857ad7846",
   "metadata": {},
   "outputs": [],
   "source": [
    "# Converting List to Pandas Dataframe\n",
    "# contacts = pd.DataFrame(Contact_details, Columns=[First_name, Last_name, company_email, phone_number, company_name, employee_range, company_stage, social_links])"
   ]
  },
  {
   "cell_type": "code",
   "execution_count": null,
   "id": "564279a8-6470-4bf9-ac4e-d4741716db92",
   "metadata": {},
   "outputs": [],
   "source": [
    "# Convert to excel \n",
    "# StartupSG_Contact_listcontacts.DataFrame.to_excel('C:\\Users\\Jeffrey Esedo\\Desktop\\Scraping_job_francis\\StartupSG_Contact_list.xlsx')"
   ]
  },
  {
   "cell_type": "code",
   "execution_count": null,
   "id": "d4382ad9-c337-4b77-b3dd-2f6c79fc5ca8",
   "metadata": {},
   "outputs": [],
   "source": [
    "# Going to the next page \n",
    "# pagenavigation= driver.find_element(By.CSS_SELECTOR, 'section > section > div.layout.directory__pagination.justify-center') # page navigatio\n",
    "\n",
    "# next_button= driver.find_element(By.XPATH,'//*[@id=\"app\"]/div[13]/div/main/div/div/div/section/section/div[4]/ul/li[11]/button').click() # clicking the next button\n"
   ]
  },
  {
   "cell_type": "code",
   "execution_count": null,
   "id": "6f953ac6-7014-49c6-ab5c-83bb87fd11b6",
   "metadata": {},
   "outputs": [],
   "source": [
    "# # Grabbing Company Contact Details \n",
    "\n",
    "# for i in range(10):\n",
    "    # i.driver.find_element(By.CSS_SELECTOR, 'a[href^=\"/profiles/\"][class=\"card entity entity--shadow')  # or Xpath\n",
    "# driver.switch_to.window(driver.window_handles[1]) # handles switch to window 1  \n",
    "\n",
    "# founder = []\n",
    "# companyemail = []\n",
    "# phonenum = []\n",
    "# linkedin = []\n",
    "# companyname = []\n",
    "# employeenumber = []\n",
    "# companystage = []     \n",
    "\n",
    "# name = driver.find_element(By.XPATH, '//*[@id=\"team\"]/div/div/div/div[2]/div/div[2]/h4').text\n",
    "# founder.append(name)\n",
    "\n",
    "# name = driver.find_element(By.CSS_SELECTOR, 'h4[class*=\"team__name\"]').text\n",
    "# founder.append(name)\n",
    "\n",
    "# email = driver.find_element(By.XPATH, '//*[@id=\"general\"]/div/div/div/div[2]/div/div[2]/div/ul[1]/li[3]/a').text\n",
    "# companyemail.append(email)\n",
    "\n",
    "# phone_number = driver.find_element(By.XPATH, '//*[@id=\"general\"]/div/div/div/div[2]/div/div[2]/div/ul[1]/li[4]/span').text\n",
    "# phonenum.append(phone_number)\n",
    "\n",
    "# Linkedin = driver.find_element(By.XPATH, '//*[@id=\"general\"]/div/div/div/div[2]/div/div[2]/div/ul[2]/li[3]/a')\n",
    "# linkedin.append(Linkedin.get_attribute('href'))\n",
    "\n",
    "# company = driver.find_element(By.XPATH, '//*[@id=\"app\"]/div[7]/div/main/div/div/section/div[1]/div/section/div/div/div[1]/header/div/div[2]/h1').text\n",
    "# companyname.append(company)\n",
    "\n",
    "# Employee_range = driver.find_element(By.XPATH, '//*[@id=\"general\"]/div/div/div/div[2]/div/div[1]/div/div/div[4]/div[2]').text\n",
    "# employeenunber.append(Employee_range)\n",
    "\n",
    "# Funding_round = driver.find_element(By.XPATH, '//*[@id=\"general\"]/div/div/div/div[2]/div/div[1]/div/div/div[3]/div[2]').text\n",
    "# companystage.append(Funding_round)\n",
    "\n",
    "# driver.close() # Close the new window\n",
    "\n",
    "# driver.switch_to.window(driver.window_handles[0]) # handles Switching back to main window    "
   ]
  }
 ],
 "metadata": {
  "kernelspec": {
   "display_name": "Python 3 (ipykernel)",
   "language": "python",
   "name": "python3"
  },
  "language_info": {
   "codemirror_mode": {
    "name": "ipython",
    "version": 3
   },
   "file_extension": ".py",
   "mimetype": "text/x-python",
   "name": "python",
   "nbconvert_exporter": "python",
   "pygments_lexer": "ipython3",
   "version": "3.9.7"
  }
 },
 "nbformat": 4,
 "nbformat_minor": 5
}
