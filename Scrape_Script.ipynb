{
 "cells": [
  {
   "cell_type": "code",
   "execution_count": 327,
   "id": "94077bdc-b7d7-4043-8324-6e38d38c0c20",
   "metadata": {},
   "outputs": [],
   "source": [
    "# importing libraries \n",
    "import os   # library to import chromedrive.exe\n",
    "from selenium import webdriver\n",
    "from selenium.webdriver.common.keys import Keys # assign keyboard commands\n",
    "from selenium.webdriver.common.by import By # for locating elements in pages\n",
    "from selenium.webdriver.chrome.options import Options as ChromeOptions\n",
    "from selenium.webdriver.support.ui import Select\n",
    "\n",
    "# for conditional walt or Explict wait\n",
    "from selenium.webdriver.support.ui import WebDriverWait\n",
    "from selenium.webdriver.support import expected_conditions as EC \n",
    "\n",
    "os.environ[\"PATH\"] += r\"C:\\SeleniumDrivers\\chromedriver.exe\" # importing chromedrive.exe from path location using os\n",
    "                                                             # this is standard, and must be done if you want ot run the script on another server \n",
    "    \n",
    "driver= webdriver.Chrome()\n",
    "\n",
    "import pandas as pd "
   ]
  },
  {
   "cell_type": "code",
   "execution_count": 328,
   "id": "8f81c82c-bced-4bff-80ff-81bb0e882c4a",
   "metadata": {},
   "outputs": [],
   "source": [
    "driver.implicitly_wait(10)\n",
    "driver.get(\"https://www.startupsg.gov.sg/directory/startups/\") # getting website\n",
    "driver.maximize_window() # maximizing browser window"
   ]
  },
  {
   "cell_type": "code",
   "execution_count": 329,
   "id": "d303ca37-118c-48df-bc87-124c81efcfe7",
   "metadata": {},
   "outputs": [],
   "source": [
    "# Selecting Funding stage\n",
    "\n",
    "fundingstage = driver.find_element(By.CSS_SELECTOR,'div.directory__filters > div > div > div:nth-child(2) > div > div > div') # clicking on the funding button\n",
    "fundingstage.click()"
   ]
  },
  {
   "cell_type": "code",
   "execution_count": 330,
   "id": "3abd239d-b2a5-48c0-aa28-b6c2df379b99",
   "metadata": {},
   "outputs": [],
   "source": [
    "# Filter Funding Stage\n",
    "stage = driver.find_element(By.CSS_SELECTOR,'div > div > input[aria-label*=\"Seed\"]') # selecting stage\n",
    "driver.execute_script(\"arguments[0].click();\", stage)"
   ]
  },
  {
   "cell_type": "code",
   "execution_count": 331,
   "id": "0ea456b4-f8c3-45db-a37b-ee0f3eaffc3a",
   "metadata": {},
   "outputs": [],
   "source": [
    "#  More Filter - Active Status\n",
    "activestatus = driver.find_element(By.CSS_SELECTOR, 'div a[class*=\"link-more-filters\"]')\n",
    "activestatus.click()\n",
    "\n",
    "\n",
    "filteractive= driver.find_element(By.CSS_SELECTOR, 'div > div input[aria-label*=\"Active\"]') # checking the Active Checkbox\n",
    "driver.execute_script(\"arguments[0].click();\", filteractive)\n"
   ]
  },
  {
   "cell_type": "code",
   "execution_count": 332,
   "id": "c4466258-3d70-4d6f-8a49-87dfd7962e78",
   "metadata": {},
   "outputs": [],
   "source": [
    "# #Login to Dashboard\n",
    "\n",
    "# # Clicking login text/link\n",
    "# try:\n",
    "#     loginelement = WebDriverWait(driver, 10).until(\n",
    "#         EC.element_to_be_clickable((By.LINK_TEXT, \"Login\"))\n",
    "#     )\n",
    "#     loginelement.click()\n",
    "# except:\n",
    "#     print('wait')\n",
    "    \n",
    "# # loginelement = driver.find_element(By.LINK_TEXT,\"Login\").click()"
   ]
  },
  {
   "cell_type": "code",
   "execution_count": 333,
   "id": "8cb17e5f-7789-4c3f-b117-8ec663ef97ae",
   "metadata": {},
   "outputs": [],
   "source": [
    "# # Sending in Username and Password\n",
    "# try:\n",
    "#     email = WebDriverWait(driver, 10).until(\n",
    "#         EC.element_to_be_clickable((By.CSS_SELECTOR, 'div[class =\"v-text-field__slot\"]'))\n",
    "#     )\n",
    "#     email.clear()\n",
    "#     email.send_keys(\"francismaduakor7@gmail.com\")\n",
    "# except:\n",
    "#     print('Error: Could not find element, failed to input email')\n",
    "    \n",
    "    \n",
    "# email= driver.find_element(By.CSS_SELECTOR, 'input#') # sending email\n",
    "# email.clear()\n",
    "# email.send_keys(\"francismaduakor7@gmail.com\")\n",
    "\n",
    "# pwd= driver.find_element(By.CSS_SELECTOR,'div[id=\"editing-view-port\"]') # sendig password\n",
    "# pwd.send_keys(\"qwerty123aA@\")\n",
    "\n",
    "\n",
    "\n",
    "# email = driver.find_element(By.CSS_SELECTOR,'input[aria-label=\"Email*\"]')\n",
    "\n"
   ]
  },
  {
   "cell_type": "code",
   "execution_count": null,
   "id": "e284375c-cd7a-4c2f-acc3-26a6b986d462",
   "metadata": {},
   "outputs": [],
   "source": []
  }
 ],
 "metadata": {
  "kernelspec": {
   "display_name": "Python 3 (ipykernel)",
   "language": "python",
   "name": "python3"
  },
  "language_info": {
   "codemirror_mode": {
    "name": "ipython",
    "version": 3
   },
   "file_extension": ".py",
   "mimetype": "text/x-python",
   "name": "python",
   "nbconvert_exporter": "python",
   "pygments_lexer": "ipython3",
   "version": "3.9.7"
  }
 },
 "nbformat": 4,
 "nbformat_minor": 5
}
